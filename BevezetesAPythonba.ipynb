{
 "cells": [
  {
   "cell_type": "markdown",
   "id": "5489d2e7",
   "metadata": {},
   "source": [
    "# Bevezetés a Python-ba (Puska)"
   ]
  },
  {
   "cell_type": "markdown",
   "id": "465be53e",
   "metadata": {},
   "source": [
    "Az osztás decimális számhoz (float) vezet."
   ]
  },
  {
   "cell_type": "markdown",
   "id": "91a68442",
   "metadata": {},
   "source": [
    "A hibaüzenet (például nullával való osztás) utolsó sora jelzi a hiba típusát.\n",
    "ZeroDivisionError: division by zero"
   ]
  },
  {
   "cell_type": "markdown",
   "id": "d1b125fc",
   "metadata": {},
   "source": [
    "Az integert szükség esetén implicit módon floattá konvertálja a Python, de ez a kivétel. Általában mindent explicit módon kell konvertálni."
   ]
  },
  {
   "cell_type": "markdown",
   "id": "0c895893",
   "metadata": {},
   "source": [
    "A hatványozást két csillag jelöli (két szorzásjel)."
   ]
  },
  {
   "cell_type": "code",
   "execution_count": 9,
   "id": "903ef2ef",
   "metadata": {},
   "outputs": [
    {
     "name": "stdout",
     "output_type": "stream",
     "text": [
      "256\n"
     ]
    }
   ],
   "source": [
    "print(2**8)"
   ]
  },
  {
   "cell_type": "markdown",
   "id": "6e75fde0",
   "metadata": {},
   "source": [
    "Az egész osztás operátora két perjelből áll."
   ]
  },
  {
   "cell_type": "code",
   "execution_count": 10,
   "id": "a7ed9426",
   "metadata": {},
   "outputs": [
    {
     "name": "stdout",
     "output_type": "stream",
     "text": [
      "3\n"
     ]
    }
   ],
   "source": [
    "print(20//6)"
   ]
  },
  {
   "cell_type": "markdown",
   "id": "3644dd18",
   "metadata": {},
   "source": [
    "A modulusképzés operátora a százalékjel. "
   ]
  },
  {
   "cell_type": "code",
   "execution_count": 11,
   "id": "ca25341e",
   "metadata": {},
   "outputs": [
    {
     "name": "stdout",
     "output_type": "stream",
     "text": [
      "2\n"
     ]
    }
   ],
   "source": [
    "print(20%6)"
   ]
  },
  {
   "cell_type": "markdown",
   "id": "83f38b98",
   "metadata": {},
   "source": [
    "Az escapelés a sztringben backslash jellel (visszaperjel) történik. \n",
    "Az újsor jelölése \\n."
   ]
  },
  {
   "cell_type": "markdown",
   "id": "28677077",
   "metadata": {},
   "source": [
    "Az alábbi módon tudunk többsoros sztringet írni, amelyben nem kell kiírnunk az újsor (\\n) jeleket."
   ]
  },
  {
   "cell_type": "code",
   "execution_count": 7,
   "id": "80c6b5b5",
   "metadata": {},
   "outputs": [
    {
     "name": "stdout",
     "output_type": "stream",
     "text": [
      "Ez a első sorunk.\n",
      "Ez a második sorunk.\n",
      "És ez a harmadik sorunk.\n"
     ]
    }
   ],
   "source": [
    "print(\"\"\"Ez a első sorunk.\n",
    "Ez a második sorunk.\n",
    "És ez a harmadik sorunk.\"\"\")"
   ]
  },
  {
   "cell_type": "markdown",
   "id": "f21e3871",
   "metadata": {},
   "source": [
    "A sztringek összefűzése (konkatenációja) a + operátorral történik."
   ]
  },
  {
   "cell_type": "code",
   "execution_count": 13,
   "id": "57d4bfea",
   "metadata": {},
   "outputs": [
    {
     "name": "stdout",
     "output_type": "stream",
     "text": [
      "Rabboh Pythont tanul\n"
     ]
    }
   ],
   "source": [
    "print(\"Rabboh \"+\"Pythont \"+'tanul')"
   ]
  },
  {
   "cell_type": "markdown",
   "id": "1ed93eff",
   "metadata": {},
   "source": [
    "A sztring megszorozható egy egész számmal. Ennek az a hatása, hogy ismételni fogja az adott sztringet. Csak egész szám használható, viszont nem történik hiba, ha a szorzó nulla vagy negatív szám - ilyenkor üres sztringet kapunk."
   ]
  },
  {
   "cell_type": "code",
   "execution_count": 14,
   "id": "666b4dca",
   "metadata": {},
   "outputs": [
    {
     "name": "stdout",
     "output_type": "stream",
     "text": [
      "Python! Python! Python! Python! \n"
     ]
    }
   ],
   "source": [
    "print(4*\"Python! \")"
   ]
  },
  {
   "cell_type": "markdown",
   "id": "9d2d125c",
   "metadata": {},
   "source": [
    "Az explicit típuskonverziót ún. konvertáló függvények végzik. A legfontosabbak az int(), float(), str() és bool() függvények."
   ]
  },
  {
   "cell_type": "code",
   "execution_count": 20,
   "id": "f4c6a24e",
   "metadata": {},
   "outputs": [
    {
     "name": "stdout",
     "output_type": "stream",
     "text": [
      "<class 'str'>\n",
      "<class 'int'>\n"
     ]
    }
   ],
   "source": [
    "orig = \"22\"\n",
    "print(type(orig))\n",
    "conv = int(orig)\n",
    "print(type(conv))"
   ]
  },
  {
   "cell_type": "code",
   "execution_count": 29,
   "id": "d4ea8ee7",
   "metadata": {},
   "outputs": [
    {
     "name": "stdout",
     "output_type": "stream",
     "text": [
      "True\n",
      "False\n",
      "True\n"
     ]
    }
   ],
   "source": [
    "conv = bool(99)\n",
    "print(conv)\n",
    "conv = bool(0)\n",
    "print(conv)\n",
    "conv = bool(-198)\n",
    "print(conv)"
   ]
  },
  {
   "cell_type": "markdown",
   "id": "6cc4fbef",
   "metadata": {},
   "source": [
    "Mindig fontos szem előtt tartani, hogy a Python érzékeny a kis- és nagybetű különbözőségekre (case sensitive)."
   ]
  },
  {
   "cell_type": "markdown",
   "id": "735087b6",
   "metadata": {},
   "source": [
    "A változó törlése a del utasítással történik. Használata után olyan, mintha az adott változó sosem létezett volna."
   ]
  },
  {
   "cell_type": "code",
   "execution_count": 31,
   "id": "469e726d",
   "metadata": {},
   "outputs": [
    {
     "ename": "NameError",
     "evalue": "name 'x' is not defined",
     "output_type": "error",
     "traceback": [
      "\u001b[0;31m---------------------------------------------------------------------------\u001b[0m",
      "\u001b[0;31mNameError\u001b[0m                                 Traceback (most recent call last)",
      "Cell \u001b[0;32mIn [31], line 3\u001b[0m\n\u001b[1;32m      1\u001b[0m x \u001b[38;5;241m=\u001b[39m \u001b[38;5;241m3\u001b[39m\n\u001b[1;32m      2\u001b[0m \u001b[38;5;28;01mdel\u001b[39;00m x\n\u001b[0;32m----> 3\u001b[0m \u001b[38;5;28mprint\u001b[39m(\u001b[38;5;28mtype\u001b[39m(\u001b[43mx\u001b[49m))\n",
      "\u001b[0;31mNameError\u001b[0m: name 'x' is not defined"
     ]
    }
   ],
   "source": [
    "x = 3\n",
    "del x\n",
    "print(type(x))"
   ]
  },
  {
   "cell_type": "markdown",
   "id": "15f4555d",
   "metadata": {},
   "source": [
    "A Python is ismeri az ún. in-place operátorokat, mint a +=, -=, *=, /=, %="
   ]
  },
  {
   "cell_type": "code",
   "execution_count": 35,
   "id": "6ef7c86f",
   "metadata": {},
   "outputs": [
    {
     "name": "stdout",
     "output_type": "stream",
     "text": [
      "3\n",
      "10\n"
     ]
    }
   ],
   "source": [
    "x = 0\n",
    "x += 3\n",
    "print(x)\n",
    "x += 7\n",
    "print(x)"
   ]
  },
  {
   "cell_type": "markdown",
   "id": "80c5fb5e",
   "metadata": {},
   "source": [
    "## Vezérlési szerkezetek"
   ]
  },
  {
   "cell_type": "markdown",
   "id": "d2d56f56",
   "metadata": {},
   "source": [
    "A logikai változó értéke True vagy False lehet. Az összehasonlításra az == és != operátorok használhatóak."
   ]
  },
  {
   "cell_type": "markdown",
   "id": "9de31b88",
   "metadata": {},
   "source": [
    "A kisebb és nagyobb operátorok (<, >) lexikografikus sztringösszehasonlításra is használatóak. Ilyenkor a kis- és nagybetű különbségek nem számítanak."
   ]
  },
  {
   "cell_type": "code",
   "execution_count": 41,
   "id": "260477ba",
   "metadata": {},
   "outputs": [
    {
     "name": "stdout",
     "output_type": "stream",
     "text": [
      "True\n",
      "False\n",
      "True\n"
     ]
    }
   ],
   "source": [
    "print(\"Rabboh\" > \"Kitty\")\n",
    "print(\"Rabboh\" < \"Asher\")\n",
    "print(\"rabboh\" > \"Kitty\") "
   ]
  },
  {
   "cell_type": "markdown",
   "id": "40177318",
   "metadata": {},
   "source": [
    "A blokkokat a Python behúzással jelöli, amit így kötelező használni."
   ]
  },
  {
   "cell_type": "markdown",
   "id": "1ca5d0e0",
   "metadata": {},
   "source": [
    "Feltételes elágaztatás az if, else, elif kulcsszavak használatával történik."
   ]
  },
  {
   "cell_type": "code",
   "execution_count": 46,
   "id": "fba8d28d",
   "metadata": {},
   "outputs": [
    {
     "name": "stdout",
     "output_type": "stream",
     "text": [
      "A -1 szám kisebb mint nulla.\n"
     ]
    }
   ],
   "source": [
    "x = -1\n",
    "if x >= 0:\n",
    "    print(\"A \"+str(x)+\" szám nagyobb vagy egyenlő nullával.\")\n",
    "else:\n",
    "    print(\"A \"+str(x)+\" szám kisebb mint nulla.\")"
   ]
  },
  {
   "cell_type": "code",
   "execution_count": 2,
   "id": "7cccf005",
   "metadata": {},
   "outputs": [
    {
     "name": "stdout",
     "output_type": "stream",
     "text": [
      "A -8 szám kisebb nullánál.\n"
     ]
    }
   ],
   "source": [
    "x = -8\n",
    "if x > 0:\n",
    "    print(\"A \"+str(x)+\" szám nagyobb mint nulla.\")\n",
    "elif x == 0:\n",
    "    print(\"A \"+str(x)+\" szám pont a nulla.\")\n",
    "else:\n",
    "    print(\"A \"+str(x)+\" szám kisebb nullánál.\")"
   ]
  },
  {
   "cell_type": "markdown",
   "id": "450afba0",
   "metadata": {},
   "source": [
    "A logikai operátorok az and, or és a not."
   ]
  },
  {
   "cell_type": "markdown",
   "id": "a0566b6d",
   "metadata": {},
   "source": [
    "A while ciklussal amíg a feltétel igaz, végrehajtódik az utasítás."
   ]
  },
  {
   "cell_type": "code",
   "execution_count": 6,
   "id": "40866bc1",
   "metadata": {},
   "outputs": [
    {
     "name": "stdout",
     "output_type": "stream",
     "text": [
      "Az i értéke 3\n",
      "Az i értéke 2\n",
      "Az i értéke 1\n",
      "Az i értéke 0\n",
      "Vége\n"
     ]
    }
   ],
   "source": [
    "i = 3\n",
    "while i>=0:\n",
    "    print(\"Az i értéke \"+str(i))\n",
    "    i -= 1\n",
    "print(\"Vége\")"
   ]
  },
  {
   "cell_type": "markdown",
   "id": "ce67fec2",
   "metadata": {},
   "source": [
    "A ciklusból idő előtt kiléphetünk a break kulcsszó alkalmazásával."
   ]
  },
  {
   "cell_type": "markdown",
   "id": "3d65b241",
   "metadata": {},
   "source": [
    "A continue kulcsszó hatására a végrehajtás a ciklus tetejére ugrik. Vagyis félbehagyja a jelenlegi iterációt, és a következőre ugrik."
   ]
  },
  {
   "cell_type": "markdown",
   "id": "d287a201",
   "metadata": {},
   "source": [
    "A listák indexelése nullától kezdődik. A lista elemeit szögletes zárójelek közt kell megadni."
   ]
  },
  {
   "cell_type": "code",
   "execution_count": 9,
   "id": "87ae60db",
   "metadata": {},
   "outputs": [
    {
     "name": "stdout",
     "output_type": "stream",
     "text": [
      "Hello\n"
     ]
    }
   ],
   "source": [
    "words = [\"Hello\", \"I\", \"am\", \"Rabboh\", \"!\"]\n",
    "print(words[0])"
   ]
  },
  {
   "cell_type": "markdown",
   "id": "fd488239",
   "metadata": {},
   "source": [
    "A listák listáját gyakran használják kétdimenziós gridekhez, mivel nincsenek többdimenziós tömbök."
   ]
  },
  {
   "cell_type": "code",
   "execution_count": 22,
   "id": "61c9aac9",
   "metadata": {},
   "outputs": [
    {
     "name": "stdout",
     "output_type": "stream",
     "text": [
      "Good morning Rabboh, what's your plan today?"
     ]
    }
   ],
   "source": [
    "import random\n",
    "mygrid = [ [\"Hello\", \"Hi\", \"Good morning\"], [\"Kitty\", \"Rabboh\", \"Kon\"], [\"how are you\", \"what's your plan today\", \"where are you now\"]]\n",
    "print(random.choice(mygrid[0]), end=\" \")\n",
    "print(random.choice(mygrid[1]), end=\", \")\n",
    "print(random.choice(mygrid[2]), end=\"?\")"
   ]
  },
  {
   "cell_type": "markdown",
   "id": "34312f6e",
   "metadata": {},
   "source": [
    "A sztringek indexelhetők úgy, mintha tömbök lennének. Általánosságban elmondható, hogy karakterek tömbjeként használhatók, így a tömbön működő függvények és metódusok használhatóak rajtuk."
   ]
  },
  {
   "cell_type": "code",
   "execution_count": 26,
   "id": "48972542",
   "metadata": {},
   "outputs": [
    {
     "name": "stdout",
     "output_type": "stream",
     "text": [
      "ENZCPFXV"
     ]
    }
   ],
   "source": [
    "import random\n",
    "str = \"ABCDEFGHIJKLMNOPQRSTXYUVWZ\"\n",
    "for i in range(8):\n",
    "    print(random.choice(str), end=\"\")"
   ]
  },
  {
   "cell_type": "markdown",
   "id": "c28ce41a",
   "metadata": {},
   "source": [
    "A listákra hasonló módon értelmezhető az összeadás és a szorzás művelete, mint a sztringekre."
   ]
  },
  {
   "cell_type": "code",
   "execution_count": 29,
   "id": "46c50b1a",
   "metadata": {},
   "outputs": [
    {
     "name": "stdout",
     "output_type": "stream",
     "text": [
      "['Hello', 'Rabboh', 'How', 'Are', 'You']\n",
      "['Hello', 'Rabboh', 'Hello', 'Rabboh', 'Hello', 'Rabboh', 'Hello', 'Rabboh']\n"
     ]
    }
   ],
   "source": [
    "a = [\"Hello\", \"Rabboh\"]\n",
    "b = [\"How\", \"Are\", \"You\"]\n",
    "print(a+b)\n",
    "print(a*4)"
   ]
  },
  {
   "cell_type": "markdown",
   "id": "639ec30d",
   "metadata": {},
   "source": [
    "Az in operátor segítségével eldönthető, hogy egy elem eleme-e egy listának, illetve hogy egy sztring részsztringje-e egy másik sztringnek."
   ]
  },
  {
   "cell_type": "code",
   "execution_count": 31,
   "id": "4407cde5",
   "metadata": {},
   "outputs": [
    {
     "name": "stdout",
     "output_type": "stream",
     "text": [
      "True\n",
      "False\n"
     ]
    }
   ],
   "source": [
    "buddies = [\"Kon\", \"Rabboh\", \"Svet\", \"Kalmi\"]\n",
    "print(\"Svet\" in buddies)\n",
    "print(\"Carl\" in buddies)"
   ]
  },
  {
   "cell_type": "code",
   "execution_count": 34,
   "id": "15d8bdc6",
   "metadata": {},
   "outputs": [
    {
     "name": "stdout",
     "output_type": "stream",
     "text": [
      "True\n",
      "False\n"
     ]
    }
   ],
   "source": [
    "str = \"heyyo world rabboh is here\"\n",
    "print(\"rabboh\" in str)\n",
    "print(\"Rabboh\" in str)"
   ]
  },
  {
   "cell_type": "markdown",
   "id": "33a3e733",
   "metadata": {},
   "source": [
    "A listákon használható néhány fontos művelet a hozzáfűzés (append), a hossz lekérdezése (len), a beszúrás (insert)."
   ]
  },
  {
   "cell_type": "code",
   "execution_count": 38,
   "id": "98a898aa",
   "metadata": {},
   "outputs": [
    {
     "name": "stdout",
     "output_type": "stream",
     "text": [
      "[12, 89, 108, 0, 67, -8]\n",
      "6\n",
      "[12, -420, 89, 108, 0, 67, -8]\n",
      "7\n"
     ]
    }
   ],
   "source": [
    "nums = [12, 89, 108, 0, 67]\n",
    "nums.append(-8)\n",
    "print(nums)\n",
    "print(len(nums))\n",
    "nums.insert(1, -420)\n",
    "print(nums)\n",
    "print(len(nums))"
   ]
  },
  {
   "cell_type": "markdown",
   "id": "99e1cfc0",
   "metadata": {},
   "source": [
    "Egy elem első előfordulásának a helyét a listába az index metódussal tudjuk megkeresni. Ha az elem nem található meg, akkor kivétel keletkezik."
   ]
  },
  {
   "cell_type": "code",
   "execution_count": 39,
   "id": "86d2f722",
   "metadata": {},
   "outputs": [
    {
     "name": "stdout",
     "output_type": "stream",
     "text": [
      "1\n"
     ]
    }
   ],
   "source": [
    "cities = [\"Budapest\", \"Berlin\", \"Zürich\", \"Paris\", \"Moscow\", \"New York City\", \"Addis-Abeba\"]\n",
    "print(cities.index(\"Berlin\"))"
   ]
  },
  {
   "cell_type": "code",
   "execution_count": 41,
   "id": "dafb8b2b",
   "metadata": {},
   "outputs": [
    {
     "ename": "ValueError",
     "evalue": "'Bern' is not in list",
     "output_type": "error",
     "traceback": [
      "\u001b[0;31m---------------------------------------------------------------------------\u001b[0m",
      "\u001b[0;31mValueError\u001b[0m                                Traceback (most recent call last)",
      "Cell \u001b[0;32mIn [41], line 1\u001b[0m\n\u001b[0;32m----> 1\u001b[0m \u001b[38;5;28mprint\u001b[39m(\u001b[43mcities\u001b[49m\u001b[38;5;241;43m.\u001b[39;49m\u001b[43mindex\u001b[49m\u001b[43m(\u001b[49m\u001b[38;5;124;43m\"\u001b[39;49m\u001b[38;5;124;43mBern\u001b[39;49m\u001b[38;5;124;43m\"\u001b[39;49m\u001b[43m)\u001b[49m)\n",
      "\u001b[0;31mValueError\u001b[0m: 'Bern' is not in list"
     ]
    }
   ],
   "source": [
    "print(cities.index(\"Bern\"))"
   ]
  },
  {
   "cell_type": "markdown",
   "id": "94a50493",
   "metadata": {},
   "source": [
    "A lista elemein for ciklussal tudunk végigiterálni."
   ]
  },
  {
   "cell_type": "code",
   "execution_count": 42,
   "id": "eaf6bd36",
   "metadata": {},
   "outputs": [
    {
     "name": "stdout",
     "output_type": "stream",
     "text": [
      "Budapest, Berlin, Zürich, Paris, Moscow, New York City, Addis-Abeba, "
     ]
    }
   ],
   "source": [
    "for city in cities:\n",
    "    print(city, end=\", \")"
   ]
  },
  {
   "cell_type": "markdown",
   "id": "30d13fd8",
   "metadata": {},
   "source": [
    "Számláló ciklust is a for kulcsszóval tudunk írni."
   ]
  },
  {
   "cell_type": "code",
   "execution_count": 45,
   "id": "ec5a2543",
   "metadata": {},
   "outputs": [
    {
     "name": "stdout",
     "output_type": "stream",
     "text": [
      "0 1 2 3 "
     ]
    }
   ],
   "source": [
    "for i in range(4):\n",
    "    print(i, end=\" \")"
   ]
  },
  {
   "cell_type": "code",
   "execution_count": 48,
   "id": "5fd2b321",
   "metadata": {},
   "outputs": [
    {
     "name": "stdout",
     "output_type": "stream",
     "text": [
      "3 4 5 6 7 8 9 "
     ]
    }
   ],
   "source": [
    "for i in range(3, 10):\n",
    "    print(i, end=\" \")"
   ]
  },
  {
   "cell_type": "code",
   "execution_count": 49,
   "id": "afd9eab3",
   "metadata": {},
   "outputs": [
    {
     "name": "stdout",
     "output_type": "stream",
     "text": [
      "3 5 7 9 "
     ]
    }
   ],
   "source": [
    "for i in range(3, 10, 2):\n",
    "    print(i, end=\" \")"
   ]
  },
  {
   "cell_type": "markdown",
   "id": "e51a19c1",
   "metadata": {},
   "source": [
    "## Függvények és modulok"
   ]
  },
  {
   "cell_type": "markdown",
   "id": "2ecebd68",
   "metadata": {},
   "source": [
    "Függvényeket a def kulcsszóval definiálhatunk. A függvényeket a meghívásuk helye előtt definiálni kell. Visszatérési érték a return kulcsszó után adható."
   ]
  },
  {
   "cell_type": "code",
   "execution_count": 53,
   "id": "1d0edbf1",
   "metadata": {},
   "outputs": [
    {
     "name": "stdout",
     "output_type": "stream",
     "text": [
      "Hello\n",
      "Rabboh\n"
     ]
    }
   ],
   "source": [
    "def my_func():\n",
    "    print(\"Hello\")\n",
    "    print(\"Rabboh\")\n",
    "    \n",
    "my_func()"
   ]
  },
  {
   "cell_type": "code",
   "execution_count": 57,
   "id": "f57f63ca",
   "metadata": {},
   "outputs": [
    {
     "name": "stdout",
     "output_type": "stream",
     "text": [
      "28.692652849424622\n"
     ]
    }
   ],
   "source": [
    "def calculate_bmi(weight_kg, height_cm):\n",
    "    return weight_kg / height_cm / height_cm * 10000\n",
    "\n",
    "print(calculate_bmi(94, 181))"
   ]
  },
  {
   "cell_type": "markdown",
   "id": "89ac6b48",
   "metadata": {},
   "source": [
    "Megjegyzéseket kettőskereszt (octothorpe) jellel bevezetve tudunk a kódunkhoz fűzni. Ezeket a programvégrehajtás figyelmen kívül hagyja. A komment a kettőskereszt kezdetétől a sor végéig tart."
   ]
  },
  {
   "cell_type": "code",
   "execution_count": 60,
   "id": "0389f962",
   "metadata": {},
   "outputs": [
    {
     "name": "stdout",
     "output_type": "stream",
     "text": [
      "68\n"
     ]
    }
   ],
   "source": [
    "# Itt elvégzünk egy matematikai műveletet\n",
    "i = 13 + 55\n",
    "print(i)"
   ]
  },
  {
   "cell_type": "markdown",
   "id": "20026da0",
   "metadata": {},
   "source": [
    "A Python nyelvben nincs többsoros megjegyzés. Ha több sorba szeretnénk megjegyzést írni, akkor minden sor elejére ki kell tennünk a kettőskeresztet."
   ]
  },
  {
   "cell_type": "markdown",
   "id": "587fb788",
   "metadata": {},
   "source": [
    "A docstringeket a függvények magyarázatára szánták. A függvénydefiníció első sorában kezdődik. Ezek a kettőskereszttel bevezetett megjegyzésekkel ellentétben futásidőben is meg vannak tartva, és hozzáférhetők."
   ]
  },
  {
   "cell_type": "code",
   "execution_count": 63,
   "id": "3281dffa",
   "metadata": {},
   "outputs": [
    {
     "name": "stdout",
     "output_type": "stream",
     "text": [
      "Rabboh!\n"
     ]
    }
   ],
   "source": [
    "def shout(word):\n",
    "    \"\"\"\n",
    "    Prints a word with an\n",
    "    exclamation mark\n",
    "    \"\"\"\n",
    "    print(word+'!')\n",
    "    \n",
    "shout(\"Rabboh\")"
   ]
  },
  {
   "cell_type": "markdown",
   "id": "28f66b79",
   "metadata": {},
   "source": [
    "A docstringhez hozzáférhetünk futásidőben."
   ]
  },
  {
   "cell_type": "code",
   "execution_count": 64,
   "id": "a4227b09",
   "metadata": {},
   "outputs": [
    {
     "name": "stdout",
     "output_type": "stream",
     "text": [
      "\n",
      "    Prints a word with an\n",
      "    exclamation mark\n",
      "    \n"
     ]
    }
   ],
   "source": [
    "print(shout.__doc__)"
   ]
  },
  {
   "cell_type": "markdown",
   "id": "ffb406ef",
   "metadata": {},
   "source": [
    "A Python értelmezőt lehet olyan paraméterrel futtatni, hogy ezek a docstringek ne legyenek hozzáférhetők. Ezt vegyük figyelembe, ha terjesztésre szánt kódban hagyatkoznánk rájuk."
   ]
  },
  {
   "cell_type": "code",
   "execution_count": null,
   "id": "e9957ca9",
   "metadata": {},
   "outputs": [],
   "source": []
  }
 ],
 "metadata": {
  "kernelspec": {
   "display_name": "Python 3 (ipykernel)",
   "language": "python",
   "name": "python3"
  },
  "language_info": {
   "codemirror_mode": {
    "name": "ipython",
    "version": 3
   },
   "file_extension": ".py",
   "mimetype": "text/x-python",
   "name": "python",
   "nbconvert_exporter": "python",
   "pygments_lexer": "ipython3",
   "version": "3.8.10"
  }
 },
 "nbformat": 4,
 "nbformat_minor": 5
}

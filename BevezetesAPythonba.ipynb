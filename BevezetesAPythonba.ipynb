{
 "cells": [
  {
   "cell_type": "markdown",
   "id": "5489d2e7",
   "metadata": {},
   "source": [
    "# Bevezetés a Python-ba (Puska)"
   ]
  },
  {
   "cell_type": "markdown",
   "id": "465be53e",
   "metadata": {},
   "source": [
    "Az osztás decimális számhoz (float) vezet."
   ]
  },
  {
   "cell_type": "markdown",
   "id": "91a68442",
   "metadata": {},
   "source": [
    "A hibaüzenet (például nullával való osztás) utolsó sora jelzi a hiba típusát.\n",
    "ZeroDivisionError: division by zero"
   ]
  },
  {
   "cell_type": "markdown",
   "id": "d1b125fc",
   "metadata": {},
   "source": [
    "Az integert szükség esetén implicit módon floattá konvertálja a Python, de ez a kivétel. Általában mindent explicit módon kell konvertálni."
   ]
  },
  {
   "cell_type": "markdown",
   "id": "0c895893",
   "metadata": {},
   "source": [
    "A hatványozást két csillag jelöli (két szorzásjel)."
   ]
  },
  {
   "cell_type": "code",
   "execution_count": 9,
   "id": "903ef2ef",
   "metadata": {},
   "outputs": [
    {
     "name": "stdout",
     "output_type": "stream",
     "text": [
      "256\n"
     ]
    }
   ],
   "source": [
    "print(2**8)"
   ]
  },
  {
   "cell_type": "markdown",
   "id": "6e75fde0",
   "metadata": {},
   "source": [
    "Az egész osztás operátora két perjelből áll."
   ]
  },
  {
   "cell_type": "code",
   "execution_count": 10,
   "id": "a7ed9426",
   "metadata": {},
   "outputs": [
    {
     "name": "stdout",
     "output_type": "stream",
     "text": [
      "3\n"
     ]
    }
   ],
   "source": [
    "print(20//6)"
   ]
  },
  {
   "cell_type": "markdown",
   "id": "3644dd18",
   "metadata": {},
   "source": [
    "A modulusképzés operátora a százalékjel. "
   ]
  },
  {
   "cell_type": "code",
   "execution_count": 11,
   "id": "ca25341e",
   "metadata": {},
   "outputs": [
    {
     "name": "stdout",
     "output_type": "stream",
     "text": [
      "2\n"
     ]
    }
   ],
   "source": [
    "print(20%6)"
   ]
  },
  {
   "cell_type": "markdown",
   "id": "83f38b98",
   "metadata": {},
   "source": [
    "Az escapelés a sztringben backslash jellel (visszaperjel) történik. \n",
    "Az újsor jelölése \\n."
   ]
  },
  {
   "cell_type": "markdown",
   "id": "28677077",
   "metadata": {},
   "source": [
    "Az alábbi módon tudunk többsoros sztringet írni, amelyben nem kell kiírnunk az újsor (\\n) jeleket."
   ]
  },
  {
   "cell_type": "code",
   "execution_count": 7,
   "id": "80c6b5b5",
   "metadata": {},
   "outputs": [
    {
     "name": "stdout",
     "output_type": "stream",
     "text": [
      "Ez a első sorunk.\n",
      "Ez a második sorunk.\n",
      "És ez a harmadik sorunk.\n"
     ]
    }
   ],
   "source": [
    "print(\"\"\"Ez a első sorunk.\n",
    "Ez a második sorunk.\n",
    "És ez a harmadik sorunk.\"\"\")"
   ]
  },
  {
   "cell_type": "markdown",
   "id": "f21e3871",
   "metadata": {},
   "source": [
    "A sztringek összefűzése (konkatenációja) a + operátorral történik."
   ]
  },
  {
   "cell_type": "code",
   "execution_count": 13,
   "id": "57d4bfea",
   "metadata": {},
   "outputs": [
    {
     "name": "stdout",
     "output_type": "stream",
     "text": [
      "Rabboh Pythont tanul\n"
     ]
    }
   ],
   "source": [
    "print(\"Rabboh \"+\"Pythont \"+'tanul')"
   ]
  },
  {
   "cell_type": "markdown",
   "id": "1ed93eff",
   "metadata": {},
   "source": [
    "A sztring megszorozható egy egész számmal. Ennek az a hatása, hogy ismételni fogja az adott sztringet. Csak egész szám használható, viszont nem történik hiba, ha a szorzó nulla vagy negatív szám - ilyenkor üres sztringet kapunk."
   ]
  },
  {
   "cell_type": "code",
   "execution_count": 14,
   "id": "666b4dca",
   "metadata": {},
   "outputs": [
    {
     "name": "stdout",
     "output_type": "stream",
     "text": [
      "Python! Python! Python! Python! \n"
     ]
    }
   ],
   "source": [
    "print(4*\"Python! \")"
   ]
  },
  {
   "cell_type": "markdown",
   "id": "9d2d125c",
   "metadata": {},
   "source": [
    "Az explicit típuskonverziót ún. konvertáló függvények végzik. A legfontosabbak az int(), float(), str() és bool() függvények."
   ]
  },
  {
   "cell_type": "code",
   "execution_count": 20,
   "id": "f4c6a24e",
   "metadata": {},
   "outputs": [
    {
     "name": "stdout",
     "output_type": "stream",
     "text": [
      "<class 'str'>\n",
      "<class 'int'>\n"
     ]
    }
   ],
   "source": [
    "orig = \"22\"\n",
    "print(type(orig))\n",
    "conv = int(orig)\n",
    "print(type(conv))"
   ]
  },
  {
   "cell_type": "code",
   "execution_count": 29,
   "id": "d4ea8ee7",
   "metadata": {},
   "outputs": [
    {
     "name": "stdout",
     "output_type": "stream",
     "text": [
      "True\n",
      "False\n",
      "True\n"
     ]
    }
   ],
   "source": [
    "conv = bool(99)\n",
    "print(conv)\n",
    "conv = bool(0)\n",
    "print(conv)\n",
    "conv = bool(-198)\n",
    "print(conv)"
   ]
  },
  {
   "cell_type": "markdown",
   "id": "6cc4fbef",
   "metadata": {},
   "source": [
    "Mindig fontos szem előtt tartani, hogy a Python érzékeny a kis- és nagybetű különbözőségekre (case sensitive)."
   ]
  },
  {
   "cell_type": "markdown",
   "id": "735087b6",
   "metadata": {},
   "source": [
    "A változó törlése a del utasítással történik. Használata után olyan, mintha az adott változó sosem létezett volna."
   ]
  },
  {
   "cell_type": "code",
   "execution_count": 31,
   "id": "469e726d",
   "metadata": {},
   "outputs": [
    {
     "ename": "NameError",
     "evalue": "name 'x' is not defined",
     "output_type": "error",
     "traceback": [
      "\u001b[0;31m---------------------------------------------------------------------------\u001b[0m",
      "\u001b[0;31mNameError\u001b[0m                                 Traceback (most recent call last)",
      "Cell \u001b[0;32mIn [31], line 3\u001b[0m\n\u001b[1;32m      1\u001b[0m x \u001b[38;5;241m=\u001b[39m \u001b[38;5;241m3\u001b[39m\n\u001b[1;32m      2\u001b[0m \u001b[38;5;28;01mdel\u001b[39;00m x\n\u001b[0;32m----> 3\u001b[0m \u001b[38;5;28mprint\u001b[39m(\u001b[38;5;28mtype\u001b[39m(\u001b[43mx\u001b[49m))\n",
      "\u001b[0;31mNameError\u001b[0m: name 'x' is not defined"
     ]
    }
   ],
   "source": [
    "x = 3\n",
    "del x\n",
    "print(type(x))"
   ]
  },
  {
   "cell_type": "markdown",
   "id": "15f4555d",
   "metadata": {},
   "source": [
    "A Python is ismeri az ún. in-place operátorokat, mint a +=, -=, *=, /=, %="
   ]
  },
  {
   "cell_type": "code",
   "execution_count": 35,
   "id": "6ef7c86f",
   "metadata": {},
   "outputs": [
    {
     "name": "stdout",
     "output_type": "stream",
     "text": [
      "3\n",
      "10\n"
     ]
    }
   ],
   "source": [
    "x = 0\n",
    "x += 3\n",
    "print(x)\n",
    "x += 7\n",
    "print(x)"
   ]
  },
  {
   "cell_type": "markdown",
   "id": "80c5fb5e",
   "metadata": {},
   "source": [
    "## Vezérlési szerkezetek"
   ]
  },
  {
   "cell_type": "markdown",
   "id": "d2d56f56",
   "metadata": {},
   "source": [
    "A logikai változó értéke True vagy False lehet. Az összehasonlításra az == és != operátorok használhatóak."
   ]
  },
  {
   "cell_type": "markdown",
   "id": "9de31b88",
   "metadata": {},
   "source": [
    "A kisebb és nagyobb operátorok (<, >) lexikografikus sztringösszehasonlításra is használatóak. Ilyenkor a kis- és nagybetű különbségek nem számítanak."
   ]
  },
  {
   "cell_type": "code",
   "execution_count": 41,
   "id": "260477ba",
   "metadata": {},
   "outputs": [
    {
     "name": "stdout",
     "output_type": "stream",
     "text": [
      "True\n",
      "False\n",
      "True\n"
     ]
    }
   ],
   "source": [
    "print(\"Rabboh\" > \"Kitty\")\n",
    "print(\"Rabboh\" < \"Asher\")\n",
    "print(\"rabboh\" > \"Kitty\") "
   ]
  },
  {
   "cell_type": "markdown",
   "id": "40177318",
   "metadata": {},
   "source": [
    "A blokkokat a Python behúzással jelöli, amit így kötelező használni."
   ]
  },
  {
   "cell_type": "markdown",
   "id": "1ca5d0e0",
   "metadata": {},
   "source": [
    "Feltételes elágaztatás az if, else, elif kulcsszavak használatával történik."
   ]
  },
  {
   "cell_type": "code",
   "execution_count": 46,
   "id": "fba8d28d",
   "metadata": {},
   "outputs": [
    {
     "name": "stdout",
     "output_type": "stream",
     "text": [
      "A -1 szám kisebb mint nulla.\n"
     ]
    }
   ],
   "source": [
    "x = -1\n",
    "if x >= 0:\n",
    "    print(\"A \"+str(x)+\" szám nagyobb vagy egyenlő nullával.\")\n",
    "else:\n",
    "    print(\"A \"+str(x)+\" szám kisebb mint nulla.\")"
   ]
  },
  {
   "cell_type": "code",
   "execution_count": null,
   "id": "7cccf005",
   "metadata": {},
   "outputs": [],
   "source": []
  }
 ],
 "metadata": {
  "kernelspec": {
   "display_name": "Python 3 (ipykernel)",
   "language": "python",
   "name": "python3"
  },
  "language_info": {
   "codemirror_mode": {
    "name": "ipython",
    "version": 3
   },
   "file_extension": ".py",
   "mimetype": "text/x-python",
   "name": "python",
   "nbconvert_exporter": "python",
   "pygments_lexer": "ipython3",
   "version": "3.8.10"
  }
 },
 "nbformat": 4,
 "nbformat_minor": 5
}

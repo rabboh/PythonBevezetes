{
 "cells": [
  {
   "cell_type": "markdown",
   "id": "5489d2e7",
   "metadata": {},
   "source": [
    "# Bevezetés a Python-ba (Puska)"
   ]
  },
  {
   "cell_type": "markdown",
   "id": "465be53e",
   "metadata": {},
   "source": [
    "Az osztás decimális számhoz (float) vezet."
   ]
  },
  {
   "cell_type": "markdown",
   "id": "91a68442",
   "metadata": {},
   "source": [
    "A hibaüzenet (például nullával való osztás) utolsó sora jelzi a hiba típusát.\n",
    "ZeroDivisionError: division by zero"
   ]
  },
  {
   "cell_type": "markdown",
   "id": "d1b125fc",
   "metadata": {},
   "source": [
    "Az integert szükség esetén implicit módon floattá konvertálja a Python, de ez a kivétel. Általában mindent explicit módon kell konvertálni."
   ]
  },
  {
   "cell_type": "markdown",
   "id": "0c895893",
   "metadata": {},
   "source": [
    "A hatványozást két csillag jelöli (két szorzásjel)."
   ]
  },
  {
   "cell_type": "code",
   "execution_count": 9,
   "id": "903ef2ef",
   "metadata": {},
   "outputs": [
    {
     "name": "stdout",
     "output_type": "stream",
     "text": [
      "256\n"
     ]
    }
   ],
   "source": [
    "print(2**8)"
   ]
  },
  {
   "cell_type": "markdown",
   "id": "6e75fde0",
   "metadata": {},
   "source": [
    "Az egész osztás operátora két perjelből áll."
   ]
  },
  {
   "cell_type": "code",
   "execution_count": 10,
   "id": "a7ed9426",
   "metadata": {},
   "outputs": [
    {
     "name": "stdout",
     "output_type": "stream",
     "text": [
      "3\n"
     ]
    }
   ],
   "source": [
    "print(20//6)"
   ]
  },
  {
   "cell_type": "markdown",
   "id": "3644dd18",
   "metadata": {},
   "source": [
    "A modulusképzés operátora a százalékjel. "
   ]
  },
  {
   "cell_type": "code",
   "execution_count": 11,
   "id": "ca25341e",
   "metadata": {},
   "outputs": [
    {
     "name": "stdout",
     "output_type": "stream",
     "text": [
      "2\n"
     ]
    }
   ],
   "source": [
    "print(20%6)"
   ]
  },
  {
   "cell_type": "markdown",
   "id": "83f38b98",
   "metadata": {},
   "source": [
    "Az escapelés a sztringben backslash jellel (visszaperjel) történik. \n",
    "Az újsor jelölése \\n."
   ]
  },
  {
   "cell_type": "markdown",
   "id": "28677077",
   "metadata": {},
   "source": [
    "Az alábbi módon tudunk többsoros sztringet írni, amelyben nem kell kiírnunk az újsor (\\n) jeleket."
   ]
  },
  {
   "cell_type": "code",
   "execution_count": 7,
   "id": "80c6b5b5",
   "metadata": {},
   "outputs": [
    {
     "name": "stdout",
     "output_type": "stream",
     "text": [
      "Ez a első sorunk.\n",
      "Ez a második sorunk.\n",
      "És ez a harmadik sorunk.\n"
     ]
    }
   ],
   "source": [
    "print(\"\"\"Ez a első sorunk.\n",
    "Ez a második sorunk.\n",
    "És ez a harmadik sorunk.\"\"\")"
   ]
  },
  {
   "cell_type": "markdown",
   "id": "f21e3871",
   "metadata": {},
   "source": [
    "A sztringek összefűzése (konkatenációja) a + operátorral történik."
   ]
  },
  {
   "cell_type": "code",
   "execution_count": 13,
   "id": "57d4bfea",
   "metadata": {},
   "outputs": [
    {
     "name": "stdout",
     "output_type": "stream",
     "text": [
      "Rabboh Pythont tanul\n"
     ]
    }
   ],
   "source": [
    "print(\"Rabboh \"+\"Pythont \"+'tanul')"
   ]
  },
  {
   "cell_type": "markdown",
   "id": "1ed93eff",
   "metadata": {},
   "source": [
    "A sztring megszorozható egy egész számmal. Ennek az a hatása, hogy ismételni fogja az adott sztringet. Csak egész szám használható, viszont nem történik hiba, ha a szorzó nulla vagy negatív szám - ilyenkor üres sztringet kapunk."
   ]
  },
  {
   "cell_type": "code",
   "execution_count": 14,
   "id": "666b4dca",
   "metadata": {},
   "outputs": [
    {
     "name": "stdout",
     "output_type": "stream",
     "text": [
      "Python! Python! Python! Python! \n"
     ]
    }
   ],
   "source": [
    "print(4*\"Python! \")"
   ]
  },
  {
   "cell_type": "markdown",
   "id": "9d2d125c",
   "metadata": {},
   "source": [
    "Az explicit típuskonverziót ún. konvertáló függvények végzik. A legfontosabbak az int(), float(), str() és bool() függvények."
   ]
  },
  {
   "cell_type": "code",
   "execution_count": 20,
   "id": "f4c6a24e",
   "metadata": {},
   "outputs": [
    {
     "name": "stdout",
     "output_type": "stream",
     "text": [
      "<class 'str'>\n",
      "<class 'int'>\n"
     ]
    }
   ],
   "source": [
    "orig = \"22\"\n",
    "print(type(orig))\n",
    "conv = int(orig)\n",
    "print(type(conv))"
   ]
  },
  {
   "cell_type": "code",
   "execution_count": 29,
   "id": "d4ea8ee7",
   "metadata": {},
   "outputs": [
    {
     "name": "stdout",
     "output_type": "stream",
     "text": [
      "True\n",
      "False\n",
      "True\n"
     ]
    }
   ],
   "source": [
    "conv = bool(99)\n",
    "print(conv)\n",
    "conv = bool(0)\n",
    "print(conv)\n",
    "conv = bool(-198)\n",
    "print(conv)"
   ]
  },
  {
   "cell_type": "markdown",
   "id": "6cc4fbef",
   "metadata": {},
   "source": [
    "Mindig fontos szem előtt tartani, hogy a Python érzékeny a kis- és nagybetű különbözőségekre (case sensitive)."
   ]
  },
  {
   "cell_type": "markdown",
   "id": "735087b6",
   "metadata": {},
   "source": [
    "A változó törlése a del utasítással történik. Használata után olyan, mintha az adott változó sosem létezett volna."
   ]
  },
  {
   "cell_type": "code",
   "execution_count": 31,
   "id": "469e726d",
   "metadata": {},
   "outputs": [
    {
     "ename": "NameError",
     "evalue": "name 'x' is not defined",
     "output_type": "error",
     "traceback": [
      "\u001b[0;31m---------------------------------------------------------------------------\u001b[0m",
      "\u001b[0;31mNameError\u001b[0m                                 Traceback (most recent call last)",
      "Cell \u001b[0;32mIn [31], line 3\u001b[0m\n\u001b[1;32m      1\u001b[0m x \u001b[38;5;241m=\u001b[39m \u001b[38;5;241m3\u001b[39m\n\u001b[1;32m      2\u001b[0m \u001b[38;5;28;01mdel\u001b[39;00m x\n\u001b[0;32m----> 3\u001b[0m \u001b[38;5;28mprint\u001b[39m(\u001b[38;5;28mtype\u001b[39m(\u001b[43mx\u001b[49m))\n",
      "\u001b[0;31mNameError\u001b[0m: name 'x' is not defined"
     ]
    }
   ],
   "source": [
    "x = 3\n",
    "del x\n",
    "print(type(x))"
   ]
  },
  {
   "cell_type": "markdown",
   "id": "15f4555d",
   "metadata": {},
   "source": [
    "A Python is ismeri az ún. in-place operátorokat, mint a +=, -=, *=, /=, %="
   ]
  },
  {
   "cell_type": "code",
   "execution_count": 35,
   "id": "6ef7c86f",
   "metadata": {},
   "outputs": [
    {
     "name": "stdout",
     "output_type": "stream",
     "text": [
      "3\n",
      "10\n"
     ]
    }
   ],
   "source": [
    "x = 0\n",
    "x += 3\n",
    "print(x)\n",
    "x += 7\n",
    "print(x)"
   ]
  },
  {
   "cell_type": "markdown",
   "id": "80c5fb5e",
   "metadata": {},
   "source": [
    "## Vezérlési szerkezetek"
   ]
  },
  {
   "cell_type": "markdown",
   "id": "d2d56f56",
   "metadata": {},
   "source": [
    "A logikai változó értéke True vagy False lehet. Az összehasonlításra az == és != operátorok használhatóak."
   ]
  },
  {
   "cell_type": "markdown",
   "id": "9de31b88",
   "metadata": {},
   "source": [
    "A kisebb és nagyobb operátorok (<, >) lexikografikus sztringösszehasonlításra is használatóak. Ilyenkor a kis- és nagybetű különbségek nem számítanak."
   ]
  },
  {
   "cell_type": "code",
   "execution_count": 41,
   "id": "260477ba",
   "metadata": {},
   "outputs": [
    {
     "name": "stdout",
     "output_type": "stream",
     "text": [
      "True\n",
      "False\n",
      "True\n"
     ]
    }
   ],
   "source": [
    "print(\"Rabboh\" > \"Kitty\")\n",
    "print(\"Rabboh\" < \"Asher\")\n",
    "print(\"rabboh\" > \"Kitty\") "
   ]
  },
  {
   "cell_type": "markdown",
   "id": "40177318",
   "metadata": {},
   "source": [
    "A blokkokat a Python behúzással jelöli, amit így kötelező használni."
   ]
  },
  {
   "cell_type": "markdown",
   "id": "1ca5d0e0",
   "metadata": {},
   "source": [
    "Feltételes elágaztatás az if, else, elif kulcsszavak használatával történik."
   ]
  },
  {
   "cell_type": "code",
   "execution_count": 46,
   "id": "fba8d28d",
   "metadata": {},
   "outputs": [
    {
     "name": "stdout",
     "output_type": "stream",
     "text": [
      "A -1 szám kisebb mint nulla.\n"
     ]
    }
   ],
   "source": [
    "x = -1\n",
    "if x >= 0:\n",
    "    print(\"A \"+str(x)+\" szám nagyobb vagy egyenlő nullával.\")\n",
    "else:\n",
    "    print(\"A \"+str(x)+\" szám kisebb mint nulla.\")"
   ]
  },
  {
   "cell_type": "code",
   "execution_count": 2,
   "id": "7cccf005",
   "metadata": {},
   "outputs": [
    {
     "name": "stdout",
     "output_type": "stream",
     "text": [
      "A -8 szám kisebb nullánál.\n"
     ]
    }
   ],
   "source": [
    "x = -8\n",
    "if x > 0:\n",
    "    print(\"A \"+str(x)+\" szám nagyobb mint nulla.\")\n",
    "elif x == 0:\n",
    "    print(\"A \"+str(x)+\" szám pont a nulla.\")\n",
    "else:\n",
    "    print(\"A \"+str(x)+\" szám kisebb nullánál.\")"
   ]
  },
  {
   "cell_type": "markdown",
   "id": "450afba0",
   "metadata": {},
   "source": [
    "A logikai operátorok az and, or és a not."
   ]
  },
  {
   "cell_type": "markdown",
   "id": "a0566b6d",
   "metadata": {},
   "source": [
    "A while ciklussal amíg a feltétel igaz, végrehajtódik az utasítás."
   ]
  },
  {
   "cell_type": "code",
   "execution_count": 6,
   "id": "40866bc1",
   "metadata": {},
   "outputs": [
    {
     "name": "stdout",
     "output_type": "stream",
     "text": [
      "Az i értéke 3\n",
      "Az i értéke 2\n",
      "Az i értéke 1\n",
      "Az i értéke 0\n",
      "Vége\n"
     ]
    }
   ],
   "source": [
    "i = 3\n",
    "while i>=0:\n",
    "    print(\"Az i értéke \"+str(i))\n",
    "    i -= 1\n",
    "print(\"Vége\")"
   ]
  },
  {
   "cell_type": "markdown",
   "id": "ce67fec2",
   "metadata": {},
   "source": [
    "A ciklusból idő előtt kiléphetünk a break kulcsszó alkalmazásával."
   ]
  },
  {
   "cell_type": "markdown",
   "id": "3d65b241",
   "metadata": {},
   "source": [
    "A continue kulcsszó hatására a végrehajtás a ciklus tetejére ugrik. Vagyis félbehagyja a jelenlegi iterációt, és a következőre ugrik."
   ]
  },
  {
   "cell_type": "markdown",
   "id": "d287a201",
   "metadata": {},
   "source": [
    "A listák indexelése nullától kezdődik. A lista elemeit szögletes zárójelek közt kell megadni."
   ]
  },
  {
   "cell_type": "code",
   "execution_count": 9,
   "id": "87ae60db",
   "metadata": {},
   "outputs": [
    {
     "name": "stdout",
     "output_type": "stream",
     "text": [
      "Hello\n"
     ]
    }
   ],
   "source": [
    "words = [\"Hello\", \"I\", \"am\", \"Rabboh\", \"!\"]\n",
    "print(words[0])"
   ]
  },
  {
   "cell_type": "markdown",
   "id": "fd488239",
   "metadata": {},
   "source": [
    "A listák listáját gyakran használják kétdimenziós gridekhez, mivel nincsenek többdimenziós tömbök."
   ]
  },
  {
   "cell_type": "code",
   "execution_count": 22,
   "id": "61c9aac9",
   "metadata": {},
   "outputs": [
    {
     "name": "stdout",
     "output_type": "stream",
     "text": [
      "Good morning Rabboh, what's your plan today?"
     ]
    }
   ],
   "source": [
    "import random\n",
    "mygrid = [ [\"Hello\", \"Hi\", \"Good morning\"], [\"Kitty\", \"Rabboh\", \"Kon\"], [\"how are you\", \"what's your plan today\", \"where are you now\"]]\n",
    "print(random.choice(mygrid[0]), end=\" \")\n",
    "print(random.choice(mygrid[1]), end=\", \")\n",
    "print(random.choice(mygrid[2]), end=\"?\")"
   ]
  },
  {
   "cell_type": "markdown",
   "id": "34312f6e",
   "metadata": {},
   "source": [
    "A sztringek indexelhetők úgy, mintha tömbök lennének. Általánosságban elmondható, hogy karakterek tömbjeként használhatók, így a tömbön működő függvények és metódusok használhatóak rajtuk."
   ]
  },
  {
   "cell_type": "code",
   "execution_count": 26,
   "id": "48972542",
   "metadata": {},
   "outputs": [
    {
     "name": "stdout",
     "output_type": "stream",
     "text": [
      "ENZCPFXV"
     ]
    }
   ],
   "source": [
    "import random\n",
    "str = \"ABCDEFGHIJKLMNOPQRSTXYUVWZ\"\n",
    "for i in range(8):\n",
    "    print(random.choice(str), end=\"\")"
   ]
  },
  {
   "cell_type": "markdown",
   "id": "c28ce41a",
   "metadata": {},
   "source": [
    "A listákra hasonló módon értelmezhető az összeadás és a szorzás művelete, mint a sztringekre."
   ]
  },
  {
   "cell_type": "code",
   "execution_count": 29,
   "id": "46c50b1a",
   "metadata": {},
   "outputs": [
    {
     "name": "stdout",
     "output_type": "stream",
     "text": [
      "['Hello', 'Rabboh', 'How', 'Are', 'You']\n",
      "['Hello', 'Rabboh', 'Hello', 'Rabboh', 'Hello', 'Rabboh', 'Hello', 'Rabboh']\n"
     ]
    }
   ],
   "source": [
    "a = [\"Hello\", \"Rabboh\"]\n",
    "b = [\"How\", \"Are\", \"You\"]\n",
    "print(a+b)\n",
    "print(a*4)"
   ]
  },
  {
   "cell_type": "markdown",
   "id": "639ec30d",
   "metadata": {},
   "source": [
    "Az in operátor segítségével eldönthető, hogy egy elem eleme-e egy listának, illetve hogy egy sztring részsztringje-e egy másik sztringnek."
   ]
  },
  {
   "cell_type": "code",
   "execution_count": 31,
   "id": "4407cde5",
   "metadata": {},
   "outputs": [
    {
     "name": "stdout",
     "output_type": "stream",
     "text": [
      "True\n",
      "False\n"
     ]
    }
   ],
   "source": [
    "buddies = [\"Kon\", \"Rabboh\", \"Svet\", \"Kalmi\"]\n",
    "print(\"Svet\" in buddies)\n",
    "print(\"Carl\" in buddies)"
   ]
  },
  {
   "cell_type": "code",
   "execution_count": 34,
   "id": "15d8bdc6",
   "metadata": {},
   "outputs": [
    {
     "name": "stdout",
     "output_type": "stream",
     "text": [
      "True\n",
      "False\n"
     ]
    }
   ],
   "source": [
    "str = \"heyyo world rabboh is here\"\n",
    "print(\"rabboh\" in str)\n",
    "print(\"Rabboh\" in str)"
   ]
  },
  {
   "cell_type": "markdown",
   "id": "33a3e733",
   "metadata": {},
   "source": [
    "A listákon használható néhány fontos művelet a hozzáfűzés (append), a hossz lekérdezése (len), a beszúrás (insert)."
   ]
  },
  {
   "cell_type": "code",
   "execution_count": 38,
   "id": "98a898aa",
   "metadata": {},
   "outputs": [
    {
     "name": "stdout",
     "output_type": "stream",
     "text": [
      "[12, 89, 108, 0, 67, -8]\n",
      "6\n",
      "[12, -420, 89, 108, 0, 67, -8]\n",
      "7\n"
     ]
    }
   ],
   "source": [
    "nums = [12, 89, 108, 0, 67]\n",
    "nums.append(-8)\n",
    "print(nums)\n",
    "print(len(nums))\n",
    "nums.insert(1, -420)\n",
    "print(nums)\n",
    "print(len(nums))"
   ]
  },
  {
   "cell_type": "markdown",
   "id": "99e1cfc0",
   "metadata": {},
   "source": [
    "Egy elem első előfordulásának a helyét a listába az index metódussal tudjuk megkeresni. Ha az elem nem található meg, akkor kivétel keletkezik."
   ]
  },
  {
   "cell_type": "code",
   "execution_count": 39,
   "id": "86d2f722",
   "metadata": {},
   "outputs": [
    {
     "name": "stdout",
     "output_type": "stream",
     "text": [
      "1\n"
     ]
    }
   ],
   "source": [
    "cities = [\"Budapest\", \"Berlin\", \"Zürich\", \"Paris\", \"Moscow\", \"New York City\", \"Addis-Abeba\"]\n",
    "print(cities.index(\"Berlin\"))"
   ]
  },
  {
   "cell_type": "code",
   "execution_count": 41,
   "id": "dafb8b2b",
   "metadata": {},
   "outputs": [
    {
     "ename": "ValueError",
     "evalue": "'Bern' is not in list",
     "output_type": "error",
     "traceback": [
      "\u001b[0;31m---------------------------------------------------------------------------\u001b[0m",
      "\u001b[0;31mValueError\u001b[0m                                Traceback (most recent call last)",
      "Cell \u001b[0;32mIn [41], line 1\u001b[0m\n\u001b[0;32m----> 1\u001b[0m \u001b[38;5;28mprint\u001b[39m(\u001b[43mcities\u001b[49m\u001b[38;5;241;43m.\u001b[39;49m\u001b[43mindex\u001b[49m\u001b[43m(\u001b[49m\u001b[38;5;124;43m\"\u001b[39;49m\u001b[38;5;124;43mBern\u001b[39;49m\u001b[38;5;124;43m\"\u001b[39;49m\u001b[43m)\u001b[49m)\n",
      "\u001b[0;31mValueError\u001b[0m: 'Bern' is not in list"
     ]
    }
   ],
   "source": [
    "print(cities.index(\"Bern\"))"
   ]
  },
  {
   "cell_type": "markdown",
   "id": "94a50493",
   "metadata": {},
   "source": [
    "A lista elemein for ciklussal tudunk végigiterálni."
   ]
  },
  {
   "cell_type": "code",
   "execution_count": 42,
   "id": "eaf6bd36",
   "metadata": {},
   "outputs": [
    {
     "name": "stdout",
     "output_type": "stream",
     "text": [
      "Budapest, Berlin, Zürich, Paris, Moscow, New York City, Addis-Abeba, "
     ]
    }
   ],
   "source": [
    "for city in cities:\n",
    "    print(city, end=\", \")"
   ]
  },
  {
   "cell_type": "markdown",
   "id": "30d13fd8",
   "metadata": {},
   "source": [
    "Számláló ciklust is a for kulcsszóval tudunk írni."
   ]
  },
  {
   "cell_type": "code",
   "execution_count": 45,
   "id": "ec5a2543",
   "metadata": {},
   "outputs": [
    {
     "name": "stdout",
     "output_type": "stream",
     "text": [
      "0 1 2 3 "
     ]
    }
   ],
   "source": [
    "for i in range(4):\n",
    "    print(i, end=\" \")"
   ]
  },
  {
   "cell_type": "code",
   "execution_count": 48,
   "id": "5fd2b321",
   "metadata": {},
   "outputs": [
    {
     "name": "stdout",
     "output_type": "stream",
     "text": [
      "3 4 5 6 7 8 9 "
     ]
    }
   ],
   "source": [
    "for i in range(3, 10):\n",
    "    print(i, end=\" \")"
   ]
  },
  {
   "cell_type": "code",
   "execution_count": 49,
   "id": "afd9eab3",
   "metadata": {},
   "outputs": [
    {
     "name": "stdout",
     "output_type": "stream",
     "text": [
      "3 5 7 9 "
     ]
    }
   ],
   "source": [
    "for i in range(3, 10, 2):\n",
    "    print(i, end=\" \")"
   ]
  },
  {
   "cell_type": "markdown",
   "id": "e51a19c1",
   "metadata": {},
   "source": [
    "## Függvények és modulok"
   ]
  },
  {
   "cell_type": "markdown",
   "id": "2ecebd68",
   "metadata": {},
   "source": [
    "Függvényeket a def kulcsszóval definiálhatunk. A függvényeket a meghívásuk helye előtt definiálni kell. Visszatérési érték a return kulcsszó után adható."
   ]
  },
  {
   "cell_type": "code",
   "execution_count": 53,
   "id": "1d0edbf1",
   "metadata": {},
   "outputs": [
    {
     "name": "stdout",
     "output_type": "stream",
     "text": [
      "Hello\n",
      "Rabboh\n"
     ]
    }
   ],
   "source": [
    "def my_func():\n",
    "    print(\"Hello\")\n",
    "    print(\"Rabboh\")\n",
    "    \n",
    "my_func()"
   ]
  },
  {
   "cell_type": "code",
   "execution_count": 57,
   "id": "f57f63ca",
   "metadata": {},
   "outputs": [
    {
     "name": "stdout",
     "output_type": "stream",
     "text": [
      "28.692652849424622\n"
     ]
    }
   ],
   "source": [
    "def calculate_bmi(weight_kg, height_cm):\n",
    "    return weight_kg / height_cm / height_cm * 10000\n",
    "\n",
    "print(calculate_bmi(94, 181))"
   ]
  },
  {
   "cell_type": "markdown",
   "id": "89ac6b48",
   "metadata": {},
   "source": [
    "Megjegyzéseket kettőskereszt (octothorpe) jellel bevezetve tudunk a kódunkhoz fűzni. Ezeket a programvégrehajtás figyelmen kívül hagyja. A komment a kettőskereszt kezdetétől a sor végéig tart."
   ]
  },
  {
   "cell_type": "code",
   "execution_count": 60,
   "id": "0389f962",
   "metadata": {},
   "outputs": [
    {
     "name": "stdout",
     "output_type": "stream",
     "text": [
      "68\n"
     ]
    }
   ],
   "source": [
    "# Itt elvégzünk egy matematikai műveletet\n",
    "i = 13 + 55\n",
    "print(i)"
   ]
  },
  {
   "cell_type": "markdown",
   "id": "20026da0",
   "metadata": {},
   "source": [
    "A Python nyelvben nincs többsoros megjegyzés. Ha több sorba szeretnénk megjegyzést írni, akkor minden sor elejére ki kell tennünk a kettőskeresztet."
   ]
  },
  {
   "cell_type": "markdown",
   "id": "587fb788",
   "metadata": {},
   "source": [
    "A docstringeket a függvények magyarázatára szánták. A függvénydefiníció első sorában kezdődik. Ezek a kettőskereszttel bevezetett megjegyzésekkel ellentétben futásidőben is meg vannak tartva, és hozzáférhetők."
   ]
  },
  {
   "cell_type": "code",
   "execution_count": 63,
   "id": "3281dffa",
   "metadata": {},
   "outputs": [
    {
     "name": "stdout",
     "output_type": "stream",
     "text": [
      "Rabboh!\n"
     ]
    }
   ],
   "source": [
    "def shout(word):\n",
    "    \"\"\"\n",
    "    Prints a word with an\n",
    "    exclamation mark\n",
    "    \"\"\"\n",
    "    print(word+'!')\n",
    "    \n",
    "shout(\"Rabboh\")"
   ]
  },
  {
   "cell_type": "markdown",
   "id": "28f66b79",
   "metadata": {},
   "source": [
    "A docstringhez hozzáférhetünk futásidőben."
   ]
  },
  {
   "cell_type": "code",
   "execution_count": 64,
   "id": "a4227b09",
   "metadata": {},
   "outputs": [
    {
     "name": "stdout",
     "output_type": "stream",
     "text": [
      "\n",
      "    Prints a word with an\n",
      "    exclamation mark\n",
      "    \n"
     ]
    }
   ],
   "source": [
    "print(shout.__doc__)"
   ]
  },
  {
   "cell_type": "markdown",
   "id": "ffb406ef",
   "metadata": {},
   "source": [
    "A Python értelmezőt lehet olyan paraméterrel futtatni, hogy ezek a docstringek ne legyenek hozzáférhetők. Ezt vegyük figyelembe, ha terjesztésre szánt kódban hagyatkoznánk rájuk."
   ]
  },
  {
   "cell_type": "markdown",
   "id": "ac879490",
   "metadata": {},
   "source": [
    "A függvények ugyanolyanok, mint akármely más érték, így például akár változókhoz is rendelhetők."
   ]
  },
  {
   "cell_type": "code",
   "execution_count": 1,
   "id": "26850515",
   "metadata": {},
   "outputs": [
    {
     "name": "stdout",
     "output_type": "stream",
     "text": [
      "1988\n"
     ]
    }
   ],
   "source": [
    "def multiply(x, y):\n",
    "    return x*y\n",
    "\n",
    "operation = multiply\n",
    "print(operation(71,28))"
   ]
  },
  {
   "cell_type": "markdown",
   "id": "53df9aab",
   "metadata": {},
   "source": [
    "Egy függvény lehet egy másik függvény argumentuma is."
   ]
  },
  {
   "cell_type": "code",
   "execution_count": 2,
   "id": "1aeaea04",
   "metadata": {},
   "outputs": [
    {
     "name": "stdout",
     "output_type": "stream",
     "text": [
      "36\n"
     ]
    }
   ],
   "source": [
    "def do_twice(func, x, y):\n",
    "    return func(func(x, y), func(x, y))\n",
    "\n",
    "print(do_twice(multiply, 2, 3))"
   ]
  },
  {
   "cell_type": "markdown",
   "id": "21778ae2",
   "metadata": {},
   "source": [
    "Függvény létezésének ellenőrzésére az isfunction() függvény használható. Ez csak az általunk definiált függvényekre tesztel, a beépítettekre például nem."
   ]
  },
  {
   "cell_type": "code",
   "execution_count": 9,
   "id": "ff1df7d8",
   "metadata": {},
   "outputs": [
    {
     "name": "stdout",
     "output_type": "stream",
     "text": [
      "True\n",
      "False\n"
     ]
    }
   ],
   "source": [
    "from inspect import isfunction\n",
    "print(isfunction(do_twice))\n",
    "print(isfunction(print))"
   ]
  },
  {
   "cell_type": "markdown",
   "id": "094dabfa",
   "metadata": {},
   "source": [
    "Modul importálása az import kulcsszóval történik. Fentebb is láthattunk erre példákat."
   ]
  },
  {
   "cell_type": "code",
   "execution_count": 19,
   "id": "4c160d8f",
   "metadata": {},
   "outputs": [
    {
     "name": "stdout",
     "output_type": "stream",
     "text": [
      "9 8 3 11 2 11 13 3 1 11 "
     ]
    }
   ],
   "source": [
    "import random\n",
    "for i in range(10):\n",
    "    value = random.randint(0, 15)\n",
    "    print(value, end=\" \")"
   ]
  },
  {
   "cell_type": "markdown",
   "id": "d8bcea6a",
   "metadata": {},
   "source": [
    "Lehetséges csak néhány objektumot importálni egy modulból."
   ]
  },
  {
   "cell_type": "code",
   "execution_count": 20,
   "id": "14fa45d2",
   "metadata": {},
   "outputs": [
    {
     "name": "stdout",
     "output_type": "stream",
     "text": [
      "1.7724538509055159\n"
     ]
    }
   ],
   "source": [
    "from math import pi, sqrt\n",
    "print(sqrt(pi))"
   ]
  },
  {
   "cell_type": "markdown",
   "id": "6a82b483",
   "metadata": {},
   "source": [
    "Más néven (aliassal) is importálhatunk modult vagy objektumot importálni."
   ]
  },
  {
   "cell_type": "code",
   "execution_count": 21,
   "id": "b4d7efb5",
   "metadata": {},
   "outputs": [
    {
     "name": "stdout",
     "output_type": "stream",
     "text": [
      "5.0\n"
     ]
    }
   ],
   "source": [
    "from math import sqrt as square_root\n",
    "print(square_root(25))"
   ]
  },
  {
   "cell_type": "markdown",
   "id": "2dc2adb7",
   "metadata": {},
   "source": [
    "A moduloknak három típusát különböztethetjük meg. Az első, amelyek előre installálva vannak (standard könyvtár); a második, amelyeket külső forrásból importálunk; és a harmadik, amelyeket én magam írok."
   ]
  },
  {
   "cell_type": "markdown",
   "id": "11bc7f09",
   "metadata": {},
   "source": [
    "Néhány fontosabb modul a standard könyvtárból: string, re, datetime, math, random, os, multiprocessing, subprocess, socket, email, json, doctest, unittest, pdb, argparse, sys."
   ]
  },
  {
   "cell_type": "markdown",
   "id": "b9bcc108",
   "metadata": {},
   "source": [
    "A standard könyvtár néhány modulja Python, mások C nyelven vannak megírva."
   ]
  },
  {
   "cell_type": "markdown",
   "id": "890a6cc5",
   "metadata": {},
   "source": [
    "A mások által írt modulok a PyPi-ben (Python Package Index) vannak tárolva. A pip terminálban való használata a csomagok telepítésének szabványos útja. Például a Django telepítéséhez ``sudo pip install django``"
   ]
  },
  {
   "cell_type": "markdown",
   "id": "a80d1b8a",
   "metadata": {},
   "source": [
    "## Kivételkezelés és fájlok"
   ]
  },
  {
   "cell_type": "markdown",
   "id": "27344e8d",
   "metadata": {},
   "source": [
    "Ha kivétel történik, a programvégrehajtás azonnal megáll. A leggyakoribb kivételek: ImportError, IndexError, NameError, SyntaxError, TypeError, ValueError. A mások által írt modulok gyakran saját kivételeket is definiálnak."
   ]
  },
  {
   "cell_type": "code",
   "execution_count": 23,
   "id": "ae3b29a4",
   "metadata": {},
   "outputs": [
    {
     "name": "stdout",
     "output_type": "stream",
     "text": [
      "Hiba történt: nullával való osztás\n"
     ]
    }
   ],
   "source": [
    "try:\n",
    "    print(7/0)\n",
    "except ZeroDivisionError:\n",
    "    print(\"Hiba történt: nullával való osztás\")"
   ]
  },
  {
   "cell_type": "markdown",
   "id": "9a941bfa",
   "metadata": {},
   "source": [
    "Egy szerkezetben több except blokk is lehet, illetve egy except blokkban több kivételt is lehet kezelni, de ilyenkor zárójellel kell megadni. A finally blokkban álló utasítások mindenképpen lefutnak."
   ]
  },
  {
   "cell_type": "code",
   "execution_count": 27,
   "id": "e180a663",
   "metadata": {},
   "outputs": [
    {
     "name": "stdout",
     "output_type": "stream",
     "text": [
      "Hiba történt: nullával való osztás\n",
      "Ezt mindenképpen kiírjuk\n"
     ]
    }
   ],
   "source": [
    "try:\n",
    "    print(7/0)\n",
    "except ZeroDivisionError:\n",
    "    print(\"Hiba történt: nullával való osztás\")\n",
    "except (ValueError, TypeError):\n",
    "    print(\"Hiba történt: érték vagy típus nem megfelelő\")\n",
    "finally:\n",
    "    print(\"Ezt mindenképpen kiírjuk\")"
   ]
  },
  {
   "cell_type": "markdown",
   "id": "5b3428ca",
   "metadata": {},
   "source": [
    "A kivételeket magunk is előidézhetjük a raise kulcsszó használatával. Argumentumokkal és anélkül is használható."
   ]
  },
  {
   "cell_type": "code",
   "execution_count": 29,
   "id": "7eeee54b",
   "metadata": {},
   "outputs": [
    {
     "name": "stdout",
     "output_type": "stream",
     "text": [
      "Hiba történt\n"
     ]
    }
   ],
   "source": [
    "try:\n",
    "    raise ValueError\n",
    "except:\n",
    "    print(\"Hiba történt\")"
   ]
  },
  {
   "cell_type": "code",
   "execution_count": 30,
   "id": "04135eeb",
   "metadata": {},
   "outputs": [
    {
     "name": "stdout",
     "output_type": "stream",
     "text": [
      "Hiba történt: Invalid name\n"
     ]
    }
   ],
   "source": [
    "try:\n",
    "    raise NameError(\"Invalid name\")\n",
    "except Exception as e:\n",
    "    print(\"Hiba történt: \"+str(e))"
   ]
  },
  {
   "cell_type": "markdown",
   "id": "c9cb2dee",
   "metadata": {},
   "source": [
    "A raise kulcsszó argumentum nélkül, önmagában is használható az except blokkban, a kivétel újraelőidézésére (továbbdobására)."
   ]
  },
  {
   "cell_type": "code",
   "execution_count": 31,
   "id": "03f5e921",
   "metadata": {},
   "outputs": [
    {
     "name": "stdout",
     "output_type": "stream",
     "text": [
      "Error occurred\n"
     ]
    },
    {
     "ename": "ZeroDivisionError",
     "evalue": "division by zero",
     "output_type": "error",
     "traceback": [
      "\u001b[0;31m---------------------------------------------------------------------------\u001b[0m",
      "\u001b[0;31mZeroDivisionError\u001b[0m                         Traceback (most recent call last)",
      "Cell \u001b[0;32mIn [31], line 2\u001b[0m\n\u001b[1;32m      1\u001b[0m \u001b[38;5;28;01mtry\u001b[39;00m:\n\u001b[0;32m----> 2\u001b[0m     num \u001b[38;5;241m=\u001b[39m \u001b[38;5;241;43m5\u001b[39;49m\u001b[38;5;241;43m/\u001b[39;49m\u001b[38;5;241;43m0\u001b[39;49m\n\u001b[1;32m      3\u001b[0m \u001b[38;5;28;01mexcept\u001b[39;00m:\n\u001b[1;32m      4\u001b[0m     \u001b[38;5;28mprint\u001b[39m(\u001b[38;5;124m\"\u001b[39m\u001b[38;5;124mError occurred\u001b[39m\u001b[38;5;124m\"\u001b[39m)\n",
      "\u001b[0;31mZeroDivisionError\u001b[0m: division by zero"
     ]
    }
   ],
   "source": [
    "try:\n",
    "    num = 5/0\n",
    "except:\n",
    "    print(\"Error occurred\")\n",
    "    raise"
   ]
  },
  {
   "cell_type": "markdown",
   "id": "7068fdcf",
   "metadata": {},
   "source": [
    "Az assertion (assert) egy ellenőrzés, amelyet tesztelére használunk. Gyakori például a függvénytörzs elején illetve végén, elő- illetve utófeltételek ellenőrzésére. Ha a kifejezés hamis logikai értékű, akkor az AssertionError kivétel keletkezik."
   ]
  },
  {
   "cell_type": "code",
   "execution_count": 33,
   "id": "877e4ac4",
   "metadata": {},
   "outputs": [
    {
     "name": "stdout",
     "output_type": "stream",
     "text": [
      "Hiba történt\n"
     ]
    }
   ],
   "source": [
    "try:\n",
    "    assert 1+1 == 3\n",
    "except AssertionError:\n",
    "    print(\"Hiba történt\")"
   ]
  },
  {
   "cell_type": "markdown",
   "id": "ad009437",
   "metadata": {},
   "source": [
    "Az Assert második attribútuma átadásra kerül az AssertionError kivételnek."
   ]
  },
  {
   "cell_type": "code",
   "execution_count": 36,
   "id": "c96c96c2",
   "metadata": {},
   "outputs": [
    {
     "name": "stdout",
     "output_type": "stream",
     "text": [
      "Hiba történt: Colder than zero\n"
     ]
    }
   ],
   "source": [
    "try:\n",
    "    temp = -10\n",
    "    assert (temp >= 0), \"Colder than zero\"\n",
    "except AssertionError as e:\n",
    "    print(\"Hiba történt: \" + str(e))"
   ]
  },
  {
   "cell_type": "markdown",
   "id": "0e9f08d0",
   "metadata": {},
   "source": [
    "Az AssertionError tehát ugyanúgy elkapható és kezelhető, mint bármely más típusú kivétel, de ha nincs kezelve, ez a fajta kivétel mindig megszakítja a program futását."
   ]
  },
  {
   "cell_type": "markdown",
   "id": "f235c484",
   "metadata": {},
   "source": [
    "A fájl megnyitása az open() metódussal történik. Az open() második attribútuma meghatározza a módot, amely alapértelmezetten \"r\", vagyis olvasás. További módok a \"w\", azaz a fájltartalom írása (felülírása), illetve az \"a\", azaz hozzáfűzési mód. Ezekhez egy \"b\"-t hozzáfűzve (pl. \"rb\", \"wb\") bináris módban nyithatjuk meg a fájlunkat. A bináris módokat a nem szöveges információt tartalmazó fájlok kezelésénél használják."
   ]
  },
  {
   "cell_type": "code",
   "execution_count": 48,
   "id": "f2abe2a8",
   "metadata": {},
   "outputs": [],
   "source": [
    "try:\n",
    "    myfile = open(\"/home/balazs/proba.txt\", \"a\")\n",
    "except Exception as e:\n",
    "    print(\"Hiba történt a fájl megnyitásakor: \"+str(e))"
   ]
  },
  {
   "cell_type": "markdown",
   "id": "bc47ceb9",
   "metadata": {},
   "source": [
    "A fájlba írni a write() metódussal tudunk. Ha már nincsen szükségünk a fájlra, zárjuk le a close() metódus használatával."
   ]
  },
  {
   "cell_type": "code",
   "execution_count": 51,
   "id": "9ed5f8cb",
   "metadata": {},
   "outputs": [],
   "source": [
    "try: \n",
    "    myfile = open(\"/home/balazs/proba.txt\", \"a\")\n",
    "    myfile.write(\"Hello, Rabboh is here\\n\")\n",
    "    myfile.close()\n",
    "except Exception as e:\n",
    "    print(\"Hiba történt a fájlkezelésnél: \"+str(e))\n",
    "finally:\n",
    "    myfile.close()"
   ]
  },
  {
   "cell_type": "markdown",
   "id": "94cb6fec",
   "metadata": {},
   "source": [
    "Ha az írás sikeres, a write() metódus visszatér a beírt bájtok számáról."
   ]
  },
  {
   "cell_type": "markdown",
   "id": "332f15aa",
   "metadata": {},
   "source": [
    "A try-except szerkezet finally blokkjában mindig gondoskodjunk a fájl lezárásáról."
   ]
  },
  {
   "cell_type": "markdown",
   "id": "64cd061a",
   "metadata": {},
   "source": [
    "A fájlból olvasó read() metódusnak opcionálisan megadható, hogy hány bájtot olvasson be. Ennek hiányában a teljes fájl be fogja olvasni."
   ]
  },
  {
   "cell_type": "code",
   "execution_count": 54,
   "id": "00e57dbb",
   "metadata": {},
   "outputs": [
    {
     "name": "stdout",
     "output_type": "stream",
     "text": [
      "Hello, Rabboh is here\n",
      "Hello, R\n"
     ]
    }
   ],
   "source": [
    "try:\n",
    "    myfile = open(\"/home/balazs/proba.txt\", \"r\")\n",
    "    cont = myfile.read(30)\n",
    "    print(cont)\n",
    "except Exception as e:\n",
    "    print(\"Hiba történt a fájlkezelésnél:\"+str(e))\n",
    "finally:\n",
    "    myfile.close()"
   ]
  },
  {
   "cell_type": "markdown",
   "id": "6bf6aa06",
   "metadata": {},
   "source": [
    "Ha minden karakter be lett már olvasva, a következő olvasásnál üres sztringet fogunk kapni."
   ]
  },
  {
   "cell_type": "markdown",
   "id": "33ad15c8",
   "metadata": {},
   "source": [
    "A readlines() metódus egy olyan listával tér vissza, amely a sorokat tartalmazza. For ciklus is használható a soronkénti beolvasásra."
   ]
  },
  {
   "cell_type": "code",
   "execution_count": 57,
   "id": "28a97d52",
   "metadata": {},
   "outputs": [
    {
     "name": "stdout",
     "output_type": "stream",
     "text": [
      "Hello, Rabboh is here\n",
      "Hello, Rabboh is here\n",
      "Hello, Rabboh is here\n",
      "Hello, Rabboh is here\n",
      "Stefania\n",
      "Kon\n",
      "Petra\n",
      "Alzo\n",
      "\n"
     ]
    }
   ],
   "source": [
    "try:\n",
    "    myfile = open(\"/home/balazs/proba.txt\", \"r\")\n",
    "    for line in myfile:\n",
    "        print(line, end=\"\")\n",
    "except Exception as e:\n",
    "    print(\"Hiba történt a fájlkezelésnél:\"+str(e))\n",
    "finally:\n",
    "    myfile.close()"
   ]
  },
  {
   "cell_type": "code",
   "execution_count": 58,
   "id": "a03d586d",
   "metadata": {},
   "outputs": [
    {
     "name": "stdout",
     "output_type": "stream",
     "text": [
      "Hello, Rabboh is here\n",
      "Hello, Rabboh is here\n",
      "Hello, Rabboh is here\n",
      "Hello, Rabboh is here\n",
      "Stefania\n",
      "Kon\n",
      "Petra\n",
      "Alzo\n",
      "\n"
     ]
    }
   ],
   "source": [
    "try:\n",
    "    myfile = open(\"/home/balazs/proba.txt\", \"r\")\n",
    "    lines = myfile.readlines()\n",
    "    for line in lines:\n",
    "        print(line, end=\"\")\n",
    "except Exception as e:\n",
    "    print(\"Hiba történt a fájlkezelésnél:\"+str(e))\n",
    "finally:\n",
    "    myfile.close()"
   ]
  },
  {
   "cell_type": "markdown",
   "id": "d22ec141",
   "metadata": {},
   "source": [
    "A with-as szerkezet egy ideiglenes változót hoz létre, amely csak a blokkban érhető el, és a blokk végén a fájlt lezárja (ily módon nekünk ezzel már nem kell foglalkoznunk)."
   ]
  },
  {
   "cell_type": "code",
   "execution_count": 59,
   "id": "71567e16",
   "metadata": {},
   "outputs": [
    {
     "name": "stdout",
     "output_type": "stream",
     "text": [
      "Hello, Rabboh is here\n",
      "Hello, Rabboh is here\n",
      "Hello, Rabboh is here\n",
      "Hello, Rabboh is here\n",
      "Stefania\n",
      "Kon\n",
      "Petra\n",
      "Alzo\n",
      "\n"
     ]
    }
   ],
   "source": [
    "with open(\"/home/balazs/proba.txt\", \"r\") as myfile:\n",
    "    for line in myfile:\n",
    "        print(line, end=\"\")"
   ]
  },
  {
   "cell_type": "markdown",
   "id": "3a7a0b10",
   "metadata": {},
   "source": [
    "## Típusok"
   ]
  },
  {
   "cell_type": "markdown",
   "id": "05d6c749",
   "metadata": {},
   "source": [
    "A None objektum egy érték hiányának reprezentálására szolgál. Logikai értékké való konvertálása False-t eredményez. Minden olyan függvény, amelynek nincs explicit visszatérési értéke, a None típussal tér vissza."
   ]
  },
  {
   "cell_type": "code",
   "execution_count": 67,
   "id": "3fa6a611",
   "metadata": {},
   "outputs": [
    {
     "name": "stdout",
     "output_type": "stream",
     "text": [
      "Rabboh\n",
      "False\n",
      "Nincs visszatérési értéke\n"
     ]
    }
   ],
   "source": [
    "def print_my_name(name):\n",
    "    print(\"Rabboh\")\n",
    "    \n",
    "x = print_my_name(\"Rabboh\")\n",
    "print(bool(x))\n",
    "\n",
    "if not x:\n",
    "    print(\"Nincs visszatérési értéke\")"
   ]
  },
  {
   "cell_type": "markdown",
   "id": "160bf8ca",
   "metadata": {},
   "source": [
    "A szótár (dictionary) kulcs-érték szerkezetben való tárolásra használható. Effektíve egy asszociatív tömb."
   ]
  },
  {
   "cell_type": "code",
   "execution_count": 70,
   "id": "a3ba88ec",
   "metadata": {},
   "outputs": [
    {
     "name": "stdout",
     "output_type": "stream",
     "text": [
      "30500\n"
     ]
    }
   ],
   "source": [
    "salaries = { \"Dave\": 30500, \"Mary\": 71000, \"John\": 28850 }\n",
    "print(salaries[\"Dave\"])"
   ]
  },
  {
   "cell_type": "code",
   "execution_count": 71,
   "id": "025d2756",
   "metadata": {},
   "outputs": [
    {
     "name": "stdout",
     "output_type": "stream",
     "text": [
      "Nem létező elem: 'Rabboh'\n"
     ]
    }
   ],
   "source": [
    "try:\n",
    "    print(salaries[\"Rabboh\"])\n",
    "except KeyError as e:\n",
    "    print(\"Nem létező elem: \"+str(e))"
   ]
  },
  {
   "cell_type": "markdown",
   "id": "aaaac118",
   "metadata": {},
   "source": [
    "Ha nem létező kulcsot kérünk le közvetlenül (ahogy fent látható), KeyError-t kapunk. A get() metódus használatával nem futunk hibára, ha nem létező kulcsot kérünk le, illetve alternatív érték is visszaadható."
   ]
  },
  {
   "cell_type": "code",
   "execution_count": 73,
   "id": "ad45daeb",
   "metadata": {},
   "outputs": [
    {
     "name": "stdout",
     "output_type": "stream",
     "text": [
      "Nincs adat\n"
     ]
    }
   ],
   "source": [
    "salary = salaries.get(\"Rabboh\", \"Nincs adat\")\n",
    "print(salary)"
   ]
  },
  {
   "cell_type": "markdown",
   "id": "d0972730",
   "metadata": {},
   "source": [
    "Az in kulcsszó használatával megállapítható, hogy egy kulcsot tartalmaz-e a szótár."
   ]
  },
  {
   "cell_type": "code",
   "execution_count": 74,
   "id": "90141d36",
   "metadata": {},
   "outputs": [
    {
     "name": "stdout",
     "output_type": "stream",
     "text": [
      "True\n",
      "False\n"
     ]
    }
   ],
   "source": [
    "print(\"Dave\" in salaries)\n",
    "print(\"Rahhoh\"  in salaries)"
   ]
  },
  {
   "cell_type": "markdown",
   "id": "dcf92f42",
   "metadata": {},
   "source": [
    "A tuple, vagy n-es, hasonló a listához, azonban nem változtatható. Újbóli érték hozzárendelése TypeError-t eredményez. Szögletes helyett kerek zárójellel jelöljük, de akár zárójelek nélkül is létrehozhatjuk."
   ]
  },
  {
   "cell_type": "code",
   "execution_count": 75,
   "id": "11c65247",
   "metadata": {},
   "outputs": [
    {
     "name": "stdout",
     "output_type": "stream",
     "text": [
      "you\n"
     ]
    }
   ],
   "source": [
    "words = (\"Hello\", \"how\", \"are\", \"you\")\n",
    "print(words[3])"
   ]
  },
  {
   "cell_type": "code",
   "execution_count": 78,
   "id": "598e5e8a",
   "metadata": {},
   "outputs": [
    {
     "ename": "TypeError",
     "evalue": "'tuple' object does not support item assignment",
     "output_type": "error",
     "traceback": [
      "\u001b[0;31m---------------------------------------------------------------------------\u001b[0m",
      "\u001b[0;31mTypeError\u001b[0m                                 Traceback (most recent call last)",
      "Cell \u001b[0;32mIn [78], line 1\u001b[0m\n\u001b[0;32m----> 1\u001b[0m \u001b[43mwords\u001b[49m\u001b[43m[\u001b[49m\u001b[38;5;241;43m4\u001b[39;49m\u001b[43m]\u001b[49m \u001b[38;5;241m=\u001b[39m \u001b[38;5;124m\"\u001b[39m\u001b[38;5;124mGreetings\u001b[39m\u001b[38;5;124m\"\u001b[39m\n",
      "\u001b[0;31mTypeError\u001b[0m: 'tuple' object does not support item assignment"
     ]
    }
   ],
   "source": [
    "words[4] = \"Greetings\""
   ]
  },
  {
   "cell_type": "code",
   "execution_count": 80,
   "id": "2abe8ffa",
   "metadata": {},
   "outputs": [
    {
     "name": "stdout",
     "output_type": "stream",
     "text": [
      "you\n"
     ]
    }
   ],
   "source": [
    "my_words = \"Hello\", \"how\", \"are\", \"you\"\n",
    "print(my_words[3])"
   ]
  },
  {
   "cell_type": "markdown",
   "id": "78681723",
   "metadata": {},
   "source": [
    "A tuple-k hatékonyabbak a listáknál, ezért ezt használjuk, ha az értékeket a programfutás közben nem kell változtatni."
   ]
  },
  {
   "cell_type": "markdown",
   "id": "b7ea7acb",
   "metadata": {},
   "source": [
    "A szeletelés (slicing) egy olyan eljárás, amivel listák részlistát, illetve tuple-k résztuple-it lehet megkapni."
   ]
  },
  {
   "cell_type": "code",
   "execution_count": 81,
   "id": "c306115c",
   "metadata": {},
   "outputs": [
    {
     "name": "stdout",
     "output_type": "stream",
     "text": [
      "[4, 9, 16, 25]\n"
     ]
    }
   ],
   "source": [
    "squares = [0, 1, 4, 9, 16, 25, 36, 49, 64, 81]\n",
    "print(squares[2:6])"
   ]
  },
  {
   "cell_type": "markdown",
   "id": "4cee1bae",
   "metadata": {},
   "source": [
    "Fontos arra figyelni, hogy az első index (2) bele van foglalva az eredménylistába, de az utolsó (6) már nem!"
   ]
  },
  {
   "cell_type": "code",
   "execution_count": 82,
   "id": "0c5831d8",
   "metadata": {},
   "outputs": [
    {
     "name": "stdout",
     "output_type": "stream",
     "text": [
      "[0, 1, 4, 9, 16, 25, 36]\n",
      "[49, 64, 81]\n"
     ]
    }
   ],
   "source": [
    "print(squares[:7])\n",
    "print(squares[7:])"
   ]
  },
  {
   "cell_type": "markdown",
   "id": "5453d760",
   "metadata": {},
   "source": [
    "A slice-nak egy harmadik értéke is lehet, ez a lépésszámot jelöli. Például megkaphatjuk minden harmadik értéket a kettes és nyolcas index között."
   ]
  },
  {
   "cell_type": "code",
   "execution_count": 83,
   "id": "5103ca71",
   "metadata": {},
   "outputs": [
    {
     "name": "stdout",
     "output_type": "stream",
     "text": [
      "[4, 25]\n"
     ]
    }
   ],
   "source": [
    "print(squares[2:8:3])"
   ]
  },
  {
   "cell_type": "markdown",
   "id": "ac861068",
   "metadata": {},
   "source": [
    "Negatív érték is használható, ilyenkor a jelentése: a végétől számítva n."
   ]
  },
  {
   "cell_type": "code",
   "execution_count": 84,
   "id": "70a11878",
   "metadata": {},
   "outputs": [
    {
     "name": "stdout",
     "output_type": "stream",
     "text": [
      "[1, 4, 9, 16, 25, 36, 49, 64]\n"
     ]
    }
   ],
   "source": [
    "print(squares[1:-1])"
   ]
  },
  {
   "cell_type": "markdown",
   "id": "d61253e7",
   "metadata": {},
   "source": [
    "A lista megfordítható az alábbi módon."
   ]
  },
  {
   "cell_type": "code",
   "execution_count": 86,
   "id": "f995db6a",
   "metadata": {},
   "outputs": [
    {
     "name": "stdout",
     "output_type": "stream",
     "text": [
      "[81, 64, 49, 36, 25, 16, 9, 4, 1, 0]\n"
     ]
    }
   ],
   "source": [
    "print(squares[::-1])"
   ]
  },
  {
   "cell_type": "markdown",
   "id": "784eb57c",
   "metadata": {},
   "source": [
    "A list comprehension egy egyszerű mód olyan listák létrehozására, amelyek tartalma valamilyen egyszerű szabály alapján generálható."
   ]
  },
  {
   "cell_type": "code",
   "execution_count": 87,
   "id": "2eb63f7e",
   "metadata": {},
   "outputs": [
    {
     "name": "stdout",
     "output_type": "stream",
     "text": [
      "[0, 1, 8, 27, 64]\n"
     ]
    }
   ],
   "source": [
    "cubes = [i**3 for i in range(5)]\n",
    "print(cubes)"
   ]
  },
  {
   "cell_type": "markdown",
   "id": "1a017ff4",
   "metadata": {},
   "source": [
    "A list comprehension tartalmazhat egy if feltételt is."
   ]
  },
  {
   "cell_type": "code",
   "execution_count": 89,
   "id": "6b7ead82",
   "metadata": {},
   "outputs": [
    {
     "name": "stdout",
     "output_type": "stream",
     "text": [
      "[0, 4, 16, 36, 64]\n"
     ]
    }
   ],
   "source": [
    "evens = [i**2 for i in range(10) if i**2%2==0]\n",
    "print(evens)"
   ]
  },
  {
   "cell_type": "markdown",
   "id": "cb5770a1",
   "metadata": {},
   "source": [
    "Ha nagyon nagy tartományban akarunk így listát létrehozni, akkor MemoryError-t kapunk."
   ]
  },
  {
   "cell_type": "markdown",
   "id": "5287406f",
   "metadata": {},
   "source": [
    "Sztringformázásra használható a format() metódus."
   ]
  },
  {
   "cell_type": "code",
   "execution_count": 4,
   "id": "00c5cd3d",
   "metadata": {},
   "outputs": [
    {
     "name": "stdout",
     "output_type": "stream",
     "text": [
      "Our numbers are: 4, 5 and 6.\n"
     ]
    }
   ],
   "source": [
    "nums = [4, 5, 6]\n",
    "msg = \"Our numbers are: {0}, {1} and {2}.\".format(nums[0], nums[1], nums[2])\n",
    "print(msg)"
   ]
  },
  {
   "cell_type": "code",
   "execution_count": 6,
   "id": "c4fec75d",
   "metadata": {},
   "outputs": [
    {
     "name": "stdout",
     "output_type": "stream",
     "text": [
      "5, 61\n"
     ]
    }
   ],
   "source": [
    "print(\"{first}, {second}\".format(first=5, second=61))"
   ]
  },
  {
   "cell_type": "markdown",
   "id": "ca19c5e5",
   "metadata": {},
   "source": [
    "Fontosabb sztringmetódusok még a join(), replace(), startswith(), endswith(), upper(), lower() illetve a split()."
   ]
  },
  {
   "cell_type": "code",
   "execution_count": 11,
   "id": "503946ce",
   "metadata": {},
   "outputs": [
    {
     "name": "stdout",
     "output_type": "stream",
     "text": [
      "Hello, Hi, Greetings\n",
      "Hello, Rabboh!\n",
      "True\n",
      "False\n",
      "RABBOH\n",
      "rabboh\n",
      "['Hello', 'I', 'am', 'rabboh,', 'how', 'about', 'you']\n"
     ]
    }
   ],
   "source": [
    "print(\", \".join([\"Hello\", \"Hi\", \"Greetings\"]))\n",
    "print(\"Hello, %%NAME%%!\".replace(\"%%NAME%%\", \"Rabboh\"))\n",
    "print(\"Hello, Rabboh\".startswith(\"Hello\"))\n",
    "print(\"Hello, Rabboh\".endswith(\"!\"))\n",
    "print(\"rabboh\".upper())\n",
    "print(\"Rabboh\".lower())\n",
    "print(\"Hello I am rabboh, how about you\".split(\" \"))"
   ]
  },
  {
   "cell_type": "markdown",
   "id": "f05621df",
   "metadata": {},
   "source": [
    "Néhány fontosabb numerikus függvény a min(), max(), abs(), illetve a sum()."
   ]
  },
  {
   "cell_type": "code",
   "execution_count": 13,
   "id": "e5cb3ef7",
   "metadata": {},
   "outputs": [
    {
     "name": "stdout",
     "output_type": "stream",
     "text": [
      "1\n",
      "1\n",
      "4\n",
      "99\n",
      "10\n"
     ]
    }
   ],
   "source": [
    "print(min([1, 2, 3, 4]))\n",
    "print(min((1, 2, 3, 4)))\n",
    "print(max([1, 2, 3, 4]))\n",
    "print(abs(-99))\n",
    "print(sum([1, 2, 3, 4]))"
   ]
  },
  {
   "cell_type": "markdown",
   "id": "a0a2e531",
   "metadata": {},
   "source": [
    "Az all és az any függvények segítségével egyszerűen végezhetünk feltételvizsgálatot egy lista összes elemén."
   ]
  },
  {
   "cell_type": "code",
   "execution_count": 14,
   "id": "f0002297",
   "metadata": {},
   "outputs": [
    {
     "name": "stdout",
     "output_type": "stream",
     "text": [
      "Minden elem nagyobb nullánál\n",
      "Legalább egy elem 10 vagy nagyobb\n"
     ]
    }
   ],
   "source": [
    "nums = [1, 2, 3, 4, 5, 6, 7, 8, 9, 10]\n",
    "if (all([i>0 for i in nums])):\n",
    "    print(\"Minden elem nagyobb nullánál\")\n",
    "if (any([i>=10 for i in nums])):\n",
    "    print(\"Legalább egy elem 10 vagy nagyobb\")"
   ]
  },
  {
   "cell_type": "markdown",
   "id": "78e0200d",
   "metadata": {},
   "source": [
    "A listán for ciklussal iterálhatunk végig."
   ]
  },
  {
   "cell_type": "code",
   "execution_count": 15,
   "id": "9a3965a9",
   "metadata": {},
   "outputs": [
    {
     "name": "stdout",
     "output_type": "stream",
     "text": [
      "(0, 1) (1, 2) (2, 3) (3, 4) (4, 5) (5, 6) (6, 7) (7, 8) (8, 9) (9, 10) "
     ]
    }
   ],
   "source": [
    "for v in enumerate(nums):\n",
    "    print(v, end=\" \")"
   ]
  },
  {
   "cell_type": "code",
   "execution_count": 16,
   "id": "6aa721a3",
   "metadata": {},
   "outputs": [
    {
     "name": "stdout",
     "output_type": "stream",
     "text": [
      "1 2 3 4 5 6 7 8 9 10 "
     ]
    }
   ],
   "source": [
    "for v in nums:\n",
    "    print(v, end=\" \")"
   ]
  },
  {
   "cell_type": "markdown",
   "id": "73af11f5",
   "metadata": {},
   "source": [
    "## Funkcionális programozás"
   ]
  },
  {
   "cell_type": "markdown",
   "id": "3bfdc8b1",
   "metadata": {},
   "source": [
    "A funkcionális programozás egy függvényeken alapuló programozási stílus. Kulcsfontosságú részei a magasabbrendű függvények (higher order functions). Ezek függvényeket kapnak argumentumként, vagy függvényeket adnak vissza."
   ]
  },
  {
   "cell_type": "markdown",
   "id": "461a0c90",
   "metadata": {},
   "source": [
    "A tiszta függvényeknek (pure functions) nincs mellékhatásuk, a visszatérési értékük csak az argumentumaiktól függ. Ez az a mód, ahogy a matematikai függvények is működnek."
   ]
  },
  {
   "cell_type": "markdown",
   "id": "a24e2d63",
   "metadata": {},
   "source": [
    "A lambda függvény egy kis névtelen függvény. Akárhány argumentuma lehet, de csak egyetlen kifejezésből állhat. A lambda függvények változókhoz rendelhetők, és mint normál függvények, használhatóak."
   ]
  },
  {
   "cell_type": "code",
   "execution_count": 20,
   "id": "b5c98402",
   "metadata": {},
   "outputs": [
    {
     "name": "stdout",
     "output_type": "stream",
     "text": [
      "28\n"
     ]
    }
   ],
   "source": [
    "print((lambda x: x**2+5*x+4)(-8))"
   ]
  },
  {
   "cell_type": "code",
   "execution_count": 21,
   "id": "c855e319",
   "metadata": {},
   "outputs": [
    {
     "name": "stdout",
     "output_type": "stream",
     "text": [
      "30\n"
     ]
    }
   ],
   "source": [
    "double = lambda x: x*2\n",
    "print(double(15))"
   ]
  },
  {
   "cell_type": "code",
   "execution_count": 22,
   "id": "f0f66271",
   "metadata": {},
   "outputs": [
    {
     "name": "stdout",
     "output_type": "stream",
     "text": [
      "28.692652849424622\n"
     ]
    }
   ],
   "source": [
    "bmi = lambda weight_kg, height_cm: weight_kg / height_cm / height_cm * 10000\n",
    "print(bmi(94, 181))"
   ]
  },
  {
   "cell_type": "markdown",
   "id": "84a56081",
   "metadata": {},
   "source": [
    "A map függvény argumentuma egy függvény és egy iterálható változó (lista vagy tuple), visszatérési értéke pedig egy iterálható változó, amely tartalmazza a függvény visszatérési értékeit minden argumentumra."
   ]
  },
  {
   "cell_type": "code",
   "execution_count": 23,
   "id": "679cd8ce",
   "metadata": {},
   "outputs": [
    {
     "name": "stdout",
     "output_type": "stream",
     "text": [
      "[-9, -21, -45, -89, -611]\n"
     ]
    }
   ],
   "source": [
    "nums = [9, 21, 45, 89, 611]\n",
    "result = list(map(lambda x: x*-1, nums))\n",
    "print(result)"
   ]
  },
  {
   "cell_type": "markdown",
   "id": "0ea758e4",
   "metadata": {},
   "source": [
    "A filter eltávolítja egy iterálható változóból azokat az elemeket, amelyek nem tesznek eleget egy predikátumnak."
   ]
  },
  {
   "cell_type": "code",
   "execution_count": 25,
   "id": "088285cc",
   "metadata": {},
   "outputs": [
    {
     "name": "stdout",
     "output_type": "stream",
     "text": [
      "[2, 4, 0, 66, 78]\n"
     ]
    }
   ],
   "source": [
    "nums = [2, 3, 15, -7, 4, 0, 66, 78, 11]\n",
    "even = list(filter(lambda x: x%2==0, nums))\n",
    "print(even)"
   ]
  },
  {
   "cell_type": "markdown",
   "id": "021e80ea",
   "metadata": {},
   "source": [
    "A generátor iterálható, de nem indexelhető. Például for ciklussal iterálhatjuk. A generátoroknak nincs memóriakorlátozása, akár végtelen is lehet."
   ]
  },
  {
   "cell_type": "code",
   "execution_count": 26,
   "id": "a6c85f47",
   "metadata": {},
   "outputs": [
    {
     "name": "stdout",
     "output_type": "stream",
     "text": [
      "5 4 3 2 1 "
     ]
    }
   ],
   "source": [
    "def countdown():\n",
    "    i = 5\n",
    "    while i > 0:\n",
    "        yield i\n",
    "        i -= 1\n",
    "        \n",
    "for i in countdown():\n",
    "    print(i, end=\" \")"
   ]
  },
  {
   "cell_type": "markdown",
   "id": "cc67e71d",
   "metadata": {},
   "source": [
    "Röviden szólva a generátorok lehetővé teszik olyan függvények definiálását, amelyek iterátorként viselkednek, például bejárhatóak for ciklussal."
   ]
  },
  {
   "cell_type": "code",
   "execution_count": 3,
   "id": "8b6aa301",
   "metadata": {},
   "outputs": [],
   "source": [
    "def is_prime(n):\n",
    "    for i in range(2,n):\n",
    "        if (n%i) == 0:\n",
    "            return False\n",
    "    return True\n",
    "\n",
    "def get_primes():\n",
    "    num = 2\n",
    "    while True:\n",
    "        if is_prime(num):\n",
    "            yield num\n",
    "        num += 1"
   ]
  },
  {
   "cell_type": "markdown",
   "id": "ff23745a",
   "metadata": {},
   "source": [
    "A véges generátorok listákká konvertálhatók a list() függvény segítségével."
   ]
  },
  {
   "cell_type": "markdown",
   "id": "fc05d35a",
   "metadata": {},
   "source": [
    "A dekorátorok lehetővé teszik, hogy függvényeket más függvényekkel módosítsunk."
   ]
  },
  {
   "cell_type": "code",
   "execution_count": 5,
   "id": "5b37da27",
   "metadata": {},
   "outputs": [
    {
     "name": "stdout",
     "output_type": "stream",
     "text": [
      "======\n",
      "Hello Bello\n",
      "======\n"
     ]
    }
   ],
   "source": [
    "def decor(func):\n",
    "    def wrap():\n",
    "        print(\"======\")\n",
    "        func()\n",
    "        print(\"======\")\n",
    "    return wrap\n",
    "\n",
    "@decor\n",
    "def print_text():\n",
    "    print(\"Hello Bello\")\n",
    "    \n",
    "print_text()"
   ]
  },
  {
   "cell_type": "markdown",
   "id": "3c0e7c5c",
   "metadata": {},
   "source": [
    "A rekurzióra klasszikus példa a faktoriális definíciója."
   ]
  },
  {
   "cell_type": "code",
   "execution_count": 13,
   "id": "2e8281f6",
   "metadata": {},
   "outputs": [
    {
     "name": "stdout",
     "output_type": "stream",
     "text": [
      "120\n"
     ]
    }
   ],
   "source": [
    "def factorial(x):\n",
    "    if x == 1:\n",
    "        return 1\n",
    "    else:\n",
    "        return x*factorial(x-1)\n",
    "    \n",
    "print(factorial(5))"
   ]
  },
  {
   "cell_type": "markdown",
   "id": "694c1575",
   "metadata": {},
   "source": [
    "A rekurzió indirekt is lehet (két függvény kölcsönösen egymást hívja)"
   ]
  },
  {
   "cell_type": "markdown",
   "id": "6f58a68c",
   "metadata": {},
   "source": [
    "A halmaz, szemben a listával, rendezetlen. Ezért értelemszerűen nem is indexelhetők."
   ]
  },
  {
   "cell_type": "code",
   "execution_count": 15,
   "id": "681028ee",
   "metadata": {},
   "outputs": [
    {
     "name": "stdout",
     "output_type": "stream",
     "text": [
      "True\n"
     ]
    }
   ],
   "source": [
    "num_set = {1, 2, 3, 4, 5, 5}\n",
    "print(3 in num_set)"
   ]
  },
  {
   "cell_type": "markdown",
   "id": "c9ab6f11",
   "metadata": {},
   "source": [
    "Elem hozzáadása és eltávolítása halmazból az add() és remove() metódusokkal történik."
   ]
  },
  {
   "cell_type": "code",
   "execution_count": 23,
   "id": "4bc29760",
   "metadata": {},
   "outputs": [
    {
     "name": "stdout",
     "output_type": "stream",
     "text": [
      "{2, 3, 4, 5}\n"
     ]
    }
   ],
   "source": [
    "num_set.add(7)\n",
    "num_set.remove(7)\n",
    "print(num_set)"
   ]
  },
  {
   "cell_type": "markdown",
   "id": "e4257c32",
   "metadata": {},
   "source": [
    "Ha az eltávolítandó elem nincs benn a halmazban, KeyError hibát kapunk. Az add() nem ad hibát, ha már benne van a hozzáadandó elem a halmazban."
   ]
  },
  {
   "cell_type": "markdown",
   "id": "94a2e00c",
   "metadata": {},
   "source": [
    "A halmaz elemeinek a számosságát a len() függvény adja vissza."
   ]
  },
  {
   "cell_type": "code",
   "execution_count": 25,
   "id": "778264cd",
   "metadata": {},
   "outputs": [
    {
     "name": "stdout",
     "output_type": "stream",
     "text": [
      "5\n"
     ]
    }
   ],
   "source": [
    "print(len({1, 2, 3, 4, 4, 4, 5}))"
   ]
  },
  {
   "cell_type": "markdown",
   "id": "ded7160f",
   "metadata": {},
   "source": [
    "A halmazok közt használható matematikai operátorok az alábbiak:    \n",
    "| Unió   \n",
    "& Metszet    \n",
    "\\- Különbség     \n",
    "^ Szimmetrikus differencia"
   ]
  },
  {
   "cell_type": "markdown",
   "id": "50f3de5b",
   "metadata": {},
   "source": [
    "A különbség az bal oldali halmaz azon elemeit adja, amelyek a jobb oldalinak nem elemei. A szimmetrikus differencia azokat az elemeket adja, amelyek csak és kizárólag az egyik halmazban találhatóak meg."
   ]
  },
  {
   "cell_type": "code",
   "execution_count": 2,
   "id": "88858012",
   "metadata": {},
   "outputs": [
    {
     "name": "stdout",
     "output_type": "stream",
     "text": [
      "{'Sara', 'Renata', 'Petra', 'Edina', 'Robert', 'Dariusz', 'Balazs', 'Tihamer', 'David', 'Gabor', 'Daniella'}\n",
      "{'Edina', 'Balazs'}\n",
      "{'Sara', 'Renata', 'David', 'Gabor'}\n",
      "{'Petra', 'Dariusz', 'Robert', 'Tihamer', 'Daniella'}\n",
      "{'Sara', 'Renata', 'Tihamer', 'David', 'Daniella', 'Petra', 'Dariusz', 'Robert', 'Gabor'}\n"
     ]
    }
   ],
   "source": [
    "english_students = {'Gabor', 'Balazs', 'Edina', 'Sara', 'Renata', 'David'}\n",
    "german_students = {'Balazs', 'Daniella', 'Edina', 'Robert', 'Petra', 'Dariusz', 'Tihamer'}\n",
    "print(english_students | german_students)\n",
    "print(english_students & german_students)\n",
    "print(english_students - german_students)\n",
    "print(german_students - english_students)\n",
    "print(english_students ^ german_students)"
   ]
  },
  {
   "cell_type": "markdown",
   "id": "3929d743",
   "metadata": {},
   "source": [
    "Az itertools egy szabványos könyvtár, amely számos, a funkcionális programozás számára hasznos függvényt tartalmaz. Néhány fontos ezek közül: count(), cycle(), repeat(), takewhile(), chain(), accumulate()."
   ]
  },
  {
   "cell_type": "markdown",
   "id": "64e45bd7",
   "metadata": {},
   "source": [
    "A count() végtelenig számol egy adott értéktől kezdve."
   ]
  },
  {
   "cell_type": "code",
   "execution_count": 5,
   "id": "51673647",
   "metadata": {},
   "outputs": [
    {
     "name": "stdout",
     "output_type": "stream",
     "text": [
      "Első tíz páros szám: [0, 2, 4, 6, 8, 10, 12, 14, 16, 18]\n"
     ]
    }
   ],
   "source": [
    "from itertools import count\n",
    "iterator = (count(start=0, step=2))\n",
    "print(\"Első tíz páros szám:\", \n",
    "      list(next(iterator) for _ in range(10)))"
   ]
  },
  {
   "cell_type": "markdown",
   "id": "7ccf408f",
   "metadata": {},
   "source": [
    "A cycle() végtelenül iterál egy iterálható változón (pl. listán vagy n-esen) keresztül"
   ]
  },
  {
   "cell_type": "code",
   "execution_count": 8,
   "id": "6e3dfb79",
   "metadata": {},
   "outputs": [
    {
     "name": "stdout",
     "output_type": "stream",
     "text": [
      "['Kés', 'Villa', 'Kanál', 'Kés', 'Villa', 'Kanál', 'Kés']\n"
     ]
    }
   ],
   "source": [
    "from itertools import cycle\n",
    "cutleries = [\"Kés\", \"Villa\", \"Kanál\"]\n",
    "iterator = (cycle(cutleries))\n",
    "print(list(next(iterator) for _ in range(7)))"
   ]
  },
  {
   "cell_type": "markdown",
   "id": "3a52799f",
   "metadata": {},
   "source": [
    "A repeat() egy objektumot ismétel végtelenszer, vagy adott számú alkalommal."
   ]
  },
  {
   "cell_type": "code",
   "execution_count": 10,
   "id": "a2b896bc",
   "metadata": {},
   "outputs": [
    {
     "name": "stdout",
     "output_type": "stream",
     "text": [
      "['Rabboh', 'Rabboh', 'Rabboh', 'Rabboh', 'Rabboh', 'Rabboh']\n"
     ]
    }
   ],
   "source": [
    "from itertools import repeat\n",
    "print(list(repeat(\"Rabboh\", 6)))"
   ]
  },
  {
   "cell_type": "code",
   "execution_count": 12,
   "id": "841a92c8",
   "metadata": {},
   "outputs": [
    {
     "name": "stdout",
     "output_type": "stream",
     "text": [
      "['RABBOH', 'RABBOH', 'RABBOH']\n"
     ]
    }
   ],
   "source": [
    "import itertools\n",
    "print(list(map(str.upper, \n",
    "               itertools.repeat('rabboh', 3))))"
   ]
  },
  {
   "cell_type": "markdown",
   "id": "d69644f4",
   "metadata": {},
   "source": [
    "A chain() iterálható változókat egy hosszú iterálhatóvá kombinál."
   ]
  },
  {
   "cell_type": "code",
   "execution_count": 17,
   "id": "61fc90f8",
   "metadata": {},
   "outputs": [
    {
     "name": "stdout",
     "output_type": "stream",
     "text": [
      "[1, 3, 5, 7, 9, 2, 4, 6, 8, 10]\n"
     ]
    }
   ],
   "source": [
    "from itertools import chain\n",
    "odd = [1, 3, 5, 7, 9]\n",
    "even = [2, 4, 6, 8, 10]\n",
    "numbers = list(chain(odd, even))\n",
    "print(numbers)"
   ]
  },
  {
   "cell_type": "markdown",
   "id": "554dd4e4",
   "metadata": {},
   "source": [
    "Az accumulate() futó összeget ad vissza egy iterálhatóból."
   ]
  },
  {
   "cell_type": "code",
   "execution_count": 19,
   "id": "a29062f5",
   "metadata": {},
   "outputs": [
    {
     "name": "stdout",
     "output_type": "stream",
     "text": [
      "0 1 3 6 10 15 21 28 36 45 "
     ]
    }
   ],
   "source": [
    "from itertools import accumulate\n",
    "acc = accumulate(range(10))\n",
    "for i in acc:\n",
    "    print(i, end=\" \")"
   ]
  },
  {
   "cell_type": "markdown",
   "id": "d8be55f5",
   "metadata": {},
   "source": [
    "A takewhile() addig vesz elemeket egy iterálhatóból, amíg a predikátum igaz."
   ]
  },
  {
   "cell_type": "code",
   "execution_count": 21,
   "id": "47ef12b8",
   "metadata": {},
   "outputs": [
    {
     "name": "stdout",
     "output_type": "stream",
     "text": [
      "[0, 1, 3, 6, 10, 15, 21, 28, 36, 45, 55, 66, 78, 91, 105]\n",
      "[0, 1, 3, 6, 10]\n"
     ]
    }
   ],
   "source": [
    "import itertools\n",
    "nums = list(itertools.accumulate(range(15)))\n",
    "print(nums)\n",
    "nums2 = list(itertools.takewhile(lambda x: x<=10, nums))\n",
    "print(nums2)"
   ]
  },
  {
   "cell_type": "markdown",
   "id": "fd32d121",
   "metadata": {},
   "source": [
    "A product() és a permutation() függvények megkönnyíthetik a dolgunkat kombinatorikus feladatoknál."
   ]
  },
  {
   "cell_type": "code",
   "execution_count": 27,
   "id": "b0e5a801",
   "metadata": {},
   "outputs": [
    {
     "name": "stdout",
     "output_type": "stream",
     "text": [
      "[('A', 'A'), ('A', 'B'), ('A', 'C'), ('B', 'A'), ('B', 'B'), ('B', 'C'), ('C', 'A'), ('C', 'B'), ('C', 'C')]\n",
      "[('A', 'B', 'C'), ('A', 'C', 'B'), ('B', 'A', 'C'), ('B', 'C', 'A'), ('C', 'A', 'B'), ('C', 'B', 'A')]\n"
     ]
    }
   ],
   "source": [
    "from itertools import product, permutations\n",
    "letters = (\"A\", \"B\", \"C\")\n",
    "print(list(product(letters, letters)))\n",
    "print(list(permutations(letters)))"
   ]
  },
  {
   "cell_type": "markdown",
   "id": "c4ee5f5b",
   "metadata": {},
   "source": [
    "## Objektumorientált programozás"
   ]
  },
  {
   "cell_type": "markdown",
   "id": "19aaa886",
   "metadata": {},
   "source": [
    "Az alábbiakban egy olyan osztályt definiálunk, amelynek csak a konstruktorát határozzuk meg. A konstruktor neve \\_\\_init\\_\\_."
   ]
  },
  {
   "cell_type": "code",
   "execution_count": 28,
   "id": "aa2e8563",
   "metadata": {},
   "outputs": [],
   "source": [
    "class Cat:\n",
    "    def __init__(self, fur_color, eye_color, weight_kg):\n",
    "        self.fur_color = fur_color\n",
    "        self.eye_color = eye_color\n",
    "        self.weight_kg = weight_kg"
   ]
  },
  {
   "cell_type": "markdown",
   "id": "94058c01",
   "metadata": {},
   "source": [
    "Definiáláskor minden metódusnak (nem csak a konstruktornak) a self kell hogy az első paramétere legyen. A példányosításnál vagy metódushívásnál azonban nem kell használni."
   ]
  },
  {
   "cell_type": "code",
   "execution_count": 29,
   "id": "8b19dbfa",
   "metadata": {},
   "outputs": [
    {
     "name": "stdout",
     "output_type": "stream",
     "text": [
      "green\n"
     ]
    }
   ],
   "source": [
    "felix = Cat(\"ginger\", \"green\", 7.8)\n",
    "print(felix.eye_color)"
   ]
  },
  {
   "cell_type": "markdown",
   "id": "d071215a",
   "metadata": {},
   "source": [
    "Az osztályattribútumokat (osztályváltozókat) a metódusdefiníciók felett adjuk meg. Ezeket statikusan is (az osztály példányosítása nélkül) elérjük."
   ]
  },
  {
   "cell_type": "code",
   "execution_count": 31,
   "id": "916ad860",
   "metadata": {},
   "outputs": [
    {
     "name": "stdout",
     "output_type": "stream",
     "text": [
      "4\n",
      "4\n"
     ]
    }
   ],
   "source": [
    "class Dog:\n",
    "    legs = 4\n",
    "    def __init__(self, fur_color, eye_color, weight_kg):\n",
    "        self.fur_color = fur_color\n",
    "        self.eye_color = eye_color\n",
    "        self.weight_kg = weight_kg\n",
    "        \n",
    "print(Dog.legs)\n",
    "bingo = Dog(\"brown\", \"brown\", 25)\n",
    "print(bingo.legs)"
   ]
  },
  {
   "cell_type": "markdown",
   "id": "5aaf1de6",
   "metadata": {},
   "source": [
    "Ha nem létező attribútumhoz próbálunk hozzáférni, AttributeError hibát kapunk."
   ]
  },
  {
   "cell_type": "code",
   "execution_count": 33,
   "id": "425a3b08",
   "metadata": {},
   "outputs": [
    {
     "name": "stdout",
     "output_type": "stream",
     "text": [
      "4\n"
     ]
    },
    {
     "ename": "AttributeError",
     "evalue": "type object 'Cat' has no attribute 'legs'",
     "output_type": "error",
     "traceback": [
      "\u001b[0;31m---------------------------------------------------------------------------\u001b[0m",
      "\u001b[0;31mAttributeError\u001b[0m                            Traceback (most recent call last)",
      "Cell \u001b[0;32mIn [33], line 2\u001b[0m\n\u001b[1;32m      1\u001b[0m \u001b[38;5;28mprint\u001b[39m(Dog\u001b[38;5;241m.\u001b[39mlegs)\n\u001b[0;32m----> 2\u001b[0m \u001b[38;5;28mprint\u001b[39m(\u001b[43mCat\u001b[49m\u001b[38;5;241;43m.\u001b[39;49m\u001b[43mlegs\u001b[49m)\n",
      "\u001b[0;31mAttributeError\u001b[0m: type object 'Cat' has no attribute 'legs'"
     ]
    }
   ],
   "source": [
    "print(Dog.legs)\n",
    "print(Cat.legs)"
   ]
  },
  {
   "cell_type": "markdown",
   "id": "47fd5e62",
   "metadata": {},
   "source": [
    "A lenti példa egy egyszeres öröklődést mutat be, de a Python támogatja a többszörös öröklődést is (multiple inheritance)."
   ]
  },
  {
   "cell_type": "code",
   "execution_count": 35,
   "id": "5d0d4bd5",
   "metadata": {},
   "outputs": [
    {
     "name": "stdout",
     "output_type": "stream",
     "text": [
      "2\n",
      "Tweet, tweet!\n",
      "0\n",
      "Hissssssssss!\n"
     ]
    }
   ],
   "source": [
    "class Animal:\n",
    "    def __init__(self, color, eye_color, weight_kg):\n",
    "        self.color = color\n",
    "        self.eye_color = eye_color\n",
    "        self.weight_kg = weight_kg\n",
    "        \n",
    "class Parrot(Animal):\n",
    "    legs = 2\n",
    "    def tweet(self):\n",
    "        print(\"Tweet, tweet!\")\n",
    "        \n",
    "class Snake(Animal):\n",
    "    legs = 0\n",
    "    def hiss(self):\n",
    "        print(\"Hissssssssss!\")\n",
    "        \n",
    "parrot = Parrot(\"yellow\", \"black\", 0.2)\n",
    "print(parrot.legs)\n",
    "parrot.tweet()\n",
    "\n",
    "snake = Snake(\"Green\", \"Red\", 5.40)\n",
    "print(snake.legs)\n",
    "snake.hiss()"
   ]
  },
  {
   "cell_type": "code",
   "execution_count": null,
   "id": "6ea0ee8e",
   "metadata": {},
   "outputs": [],
   "source": []
  }
 ],
 "metadata": {
  "kernelspec": {
   "display_name": "Python 3 (ipykernel)",
   "language": "python",
   "name": "python3"
  },
  "language_info": {
   "codemirror_mode": {
    "name": "ipython",
    "version": 3
   },
   "file_extension": ".py",
   "mimetype": "text/x-python",
   "name": "python",
   "nbconvert_exporter": "python",
   "pygments_lexer": "ipython3",
   "version": "3.8.10"
  }
 },
 "nbformat": 4,
 "nbformat_minor": 5
}
